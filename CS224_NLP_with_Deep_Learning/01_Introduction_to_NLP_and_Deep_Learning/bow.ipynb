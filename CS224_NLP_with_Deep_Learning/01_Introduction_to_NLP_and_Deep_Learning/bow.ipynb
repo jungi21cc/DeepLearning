{
 "cells": [
  {
   "cell_type": "code",
   "execution_count": 1,
   "metadata": {
    "collapsed": true
   },
   "outputs": [],
   "source": [
    "from collections import defaultdict\n",
    "import time\n",
    "import random\n",
    "import dynet as dy\n",
    "import numpy as np"
   ]
  },
  {
   "cell_type": "code",
   "execution_count": 2,
   "metadata": {
    "collapsed": true
   },
   "outputs": [],
   "source": [
    "# Functions to read in the corpus\n",
    "w2i = defaultdict(lambda: len(w2i))\n",
    "t2i = defaultdict(lambda: len(t2i))\n",
    "UNK = w2i[\"<unk>\"]\n",
    "def read_dataset(filename):\n",
    "    with open(filename, \"r\") as f:\n",
    "        for line in f:\n",
    "            tag, words = line.lower().strip().split(\" ||| \")\n",
    "            yield ([w2i[x] for x in words.split(\" \")], t2i[tag])"
   ]
  },
  {
   "cell_type": "code",
   "execution_count": 3,
   "metadata": {
    "collapsed": false
   },
   "outputs": [],
   "source": [
    "# Read in the data\n",
    "train = list(read_dataset(\"../data/classes/train.txt\"))\n",
    "w2i = defaultdict(lambda: UNK, w2i)\n",
    "dev = list(read_dataset(\"../data/classes/test.txt\"))\n",
    "nwords = len(w2i)\n",
    "ntags = len(t2i)"
   ]
  },
  {
   "cell_type": "code",
   "execution_count": 4,
   "metadata": {
    "collapsed": false
   },
   "outputs": [
    {
     "data": {
      "text/plain": [
       "0"
      ]
     },
     "execution_count": 4,
     "metadata": {},
     "output_type": "execute_result"
    }
   ],
   "source": [
    "train[0][1]"
   ]
  },
  {
   "cell_type": "code",
   "execution_count": 5,
   "metadata": {
    "collapsed": true
   },
   "outputs": [],
   "source": [
    "# Start DyNet and define trainer\n",
    "model = dy.Model()\n",
    "trainer = dy.AdamTrainer(model)"
   ]
  },
  {
   "cell_type": "code",
   "execution_count": 6,
   "metadata": {
    "collapsed": true
   },
   "outputs": [],
   "source": [
    "# Define the model\n",
    "W_sm = model.add_lookup_parameters((nwords, ntags)) # Word weights\n",
    "b_sm = model.add_parameters((ntags))                # Softmax bias"
   ]
  },
  {
   "cell_type": "code",
   "execution_count": 7,
   "metadata": {
    "collapsed": true
   },
   "outputs": [],
   "source": [
    "# A function to calculate scores for one value\n",
    "def calc_scores(words):\n",
    "    dy.renew_cg()\n",
    "    score = dy.esum([dy.lookup(W_sm, x) for x in words])\n",
    "    b_sm_exp = dy.parameter(b_sm)\n",
    "    return score + b_sm_exp"
   ]
  },
  {
   "cell_type": "code",
   "execution_count": 9,
   "metadata": {
    "collapsed": false,
    "scrolled": false
   },
   "outputs": [
    {
     "name": "stdout",
     "output_type": "stream",
     "text": [
      "iter 0: train loss/sent=2.4147, time=0.42s\n",
      "iter 0: test acc=0.2425\n",
      "iter 1: train loss/sent=2.0441, time=0.39s\n",
      "iter 1: test acc=0.2593\n",
      "iter 2: train loss/sent=1.8603, time=0.39s\n",
      "iter 2: test acc=0.2692\n",
      "iter 3: train loss/sent=1.7264, time=0.38s\n",
      "iter 3: test acc=0.2833\n",
      "iter 4: train loss/sent=1.6187, time=0.39s\n",
      "iter 4: test acc=0.2878\n",
      "iter 5: train loss/sent=1.5300, time=0.38s\n",
      "iter 5: test acc=0.2928\n",
      "iter 6: train loss/sent=1.4525, time=0.39s\n",
      "iter 6: test acc=0.3018\n",
      "iter 7: train loss/sent=1.3847, time=0.38s\n",
      "iter 7: test acc=0.3050\n",
      "iter 8: train loss/sent=1.3233, time=0.41s\n",
      "iter 8: test acc=0.3136\n",
      "iter 9: train loss/sent=1.2693, time=0.39s\n",
      "iter 9: test acc=0.3149\n",
      "iter 10: train loss/sent=1.2197, time=0.39s\n",
      "iter 10: test acc=0.3195\n",
      "iter 11: train loss/sent=1.1742, time=0.60s\n",
      "iter 11: test acc=0.3226\n",
      "iter 12: train loss/sent=1.1335, time=0.39s\n",
      "iter 12: test acc=0.3208\n",
      "iter 13: train loss/sent=1.0956, time=0.40s\n",
      "iter 13: test acc=0.3186\n",
      "iter 14: train loss/sent=1.0605, time=0.39s\n",
      "iter 14: test acc=0.3244\n",
      "iter 15: train loss/sent=1.0273, time=0.39s\n",
      "iter 15: test acc=0.3326\n",
      "iter 16: train loss/sent=0.9966, time=0.39s\n",
      "iter 16: test acc=0.3362\n",
      "iter 17: train loss/sent=0.9685, time=0.63s\n",
      "iter 17: test acc=0.3335\n",
      "iter 18: train loss/sent=0.9416, time=0.39s\n",
      "iter 18: test acc=0.3326\n",
      "iter 19: train loss/sent=0.9161, time=0.64s\n",
      "iter 19: test acc=0.3389\n",
      "iter 20: train loss/sent=0.8923, time=0.60s\n",
      "iter 20: test acc=0.3376\n",
      "iter 21: train loss/sent=0.8708, time=0.39s\n",
      "iter 21: test acc=0.3380\n",
      "iter 22: train loss/sent=0.8498, time=0.60s\n",
      "iter 22: test acc=0.3389\n",
      "iter 23: train loss/sent=0.8295, time=0.69s\n",
      "iter 23: test acc=0.3330\n",
      "iter 24: train loss/sent=0.8110, time=0.39s\n",
      "iter 24: test acc=0.3389\n",
      "iter 25: train loss/sent=0.7931, time=0.41s\n",
      "iter 25: test acc=0.3367\n",
      "iter 26: train loss/sent=0.7759, time=0.39s\n",
      "iter 26: test acc=0.3339\n",
      "iter 27: train loss/sent=0.7596, time=0.38s\n",
      "iter 27: test acc=0.3389\n",
      "iter 28: train loss/sent=0.7450, time=0.39s\n",
      "iter 28: test acc=0.3398\n",
      "iter 29: train loss/sent=0.7304, time=0.39s\n",
      "iter 29: test acc=0.3398\n",
      "iter 30: train loss/sent=0.7161, time=0.38s\n",
      "iter 30: test acc=0.3344\n",
      "iter 31: train loss/sent=0.7029, time=0.38s\n",
      "iter 31: test acc=0.3416\n",
      "iter 32: train loss/sent=0.6903, time=0.49s\n",
      "iter 32: test acc=0.3434\n",
      "iter 33: train loss/sent=0.6781, time=0.39s\n",
      "iter 33: test acc=0.3348\n",
      "iter 34: train loss/sent=0.6665, time=0.59s\n",
      "iter 34: test acc=0.3380\n",
      "iter 35: train loss/sent=0.6551, time=0.58s\n",
      "iter 35: test acc=0.3471\n",
      "iter 36: train loss/sent=0.6448, time=0.39s\n",
      "iter 36: test acc=0.3371\n",
      "iter 37: train loss/sent=0.6340, time=0.42s\n",
      "iter 37: test acc=0.3434\n",
      "iter 38: train loss/sent=0.6248, time=0.41s\n",
      "iter 38: test acc=0.3398\n",
      "iter 39: train loss/sent=0.6150, time=0.40s\n",
      "iter 39: test acc=0.3443\n",
      "iter 40: train loss/sent=0.6057, time=0.39s\n",
      "iter 40: test acc=0.3380\n",
      "iter 41: train loss/sent=0.5968, time=0.39s\n",
      "iter 41: test acc=0.3421\n",
      "iter 42: train loss/sent=0.5886, time=0.39s\n",
      "iter 42: test acc=0.3452\n",
      "iter 43: train loss/sent=0.5798, time=0.58s\n",
      "iter 43: test acc=0.3557\n",
      "iter 44: train loss/sent=0.5719, time=0.39s\n",
      "iter 44: test acc=0.3529\n",
      "iter 45: train loss/sent=0.5643, time=0.39s\n",
      "iter 45: test acc=0.3489\n",
      "iter 46: train loss/sent=0.5563, time=0.39s\n",
      "iter 46: test acc=0.3529\n",
      "iter 47: train loss/sent=0.5495, time=0.39s\n",
      "iter 47: test acc=0.3498\n",
      "iter 48: train loss/sent=0.5427, time=0.39s\n",
      "iter 48: test acc=0.3534\n",
      "iter 49: train loss/sent=0.5358, time=0.39s\n",
      "iter 49: test acc=0.3534\n",
      "iter 50: train loss/sent=0.5293, time=0.39s\n",
      "iter 50: test acc=0.3538\n",
      "iter 51: train loss/sent=0.5229, time=0.40s\n",
      "iter 51: test acc=0.3548\n",
      "iter 52: train loss/sent=0.5166, time=0.56s\n",
      "iter 52: test acc=0.3534\n",
      "iter 53: train loss/sent=0.5105, time=0.39s\n",
      "iter 53: test acc=0.3538\n",
      "iter 54: train loss/sent=0.5049, time=0.40s\n",
      "iter 54: test acc=0.3529\n",
      "iter 55: train loss/sent=0.4990, time=0.39s\n",
      "iter 55: test acc=0.3525\n",
      "iter 56: train loss/sent=0.4937, time=0.79s\n",
      "iter 56: test acc=0.3602\n",
      "iter 57: train loss/sent=0.4878, time=0.63s\n",
      "iter 57: test acc=0.3575\n",
      "iter 58: train loss/sent=0.4831, time=0.49s\n",
      "iter 58: test acc=0.3566\n",
      "iter 59: train loss/sent=0.4779, time=0.45s\n",
      "iter 59: test acc=0.3579\n",
      "iter 60: train loss/sent=0.4727, time=0.47s\n",
      "iter 60: test acc=0.3529\n",
      "iter 61: train loss/sent=0.4681, time=0.39s\n",
      "iter 61: test acc=0.3602\n",
      "iter 62: train loss/sent=0.4628, time=0.39s\n",
      "iter 62: test acc=0.3593\n",
      "iter 63: train loss/sent=0.4585, time=0.40s\n",
      "iter 63: test acc=0.3615\n",
      "iter 64: train loss/sent=0.4542, time=0.38s\n",
      "iter 64: test acc=0.3566\n",
      "iter 65: train loss/sent=0.4495, time=0.39s\n",
      "iter 65: test acc=0.3602\n",
      "iter 66: train loss/sent=0.4455, time=0.39s\n",
      "iter 66: test acc=0.3570\n",
      "iter 67: train loss/sent=0.4412, time=0.39s\n",
      "iter 67: test acc=0.3584\n",
      "iter 68: train loss/sent=0.4370, time=0.38s\n",
      "iter 68: test acc=0.3584\n",
      "iter 69: train loss/sent=0.4328, time=0.39s\n",
      "iter 69: test acc=0.3548\n",
      "iter 70: train loss/sent=0.4292, time=0.39s\n",
      "iter 70: test acc=0.3561\n",
      "iter 71: train loss/sent=0.4252, time=0.66s\n",
      "iter 71: test acc=0.3602\n",
      "iter 72: train loss/sent=0.4213, time=0.56s\n",
      "iter 72: test acc=0.3597\n",
      "iter 73: train loss/sent=0.4176, time=0.73s\n",
      "iter 73: test acc=0.3615\n",
      "iter 74: train loss/sent=0.4141, time=0.63s\n",
      "iter 74: test acc=0.3570\n",
      "iter 75: train loss/sent=0.4107, time=0.53s\n",
      "iter 75: test acc=0.3647\n",
      "iter 76: train loss/sent=0.4072, time=0.39s\n",
      "iter 76: test acc=0.3647\n",
      "iter 77: train loss/sent=0.4038, time=0.43s\n",
      "iter 77: test acc=0.3665\n",
      "iter 78: train loss/sent=0.4004, time=0.41s\n",
      "iter 78: test acc=0.3620\n",
      "iter 79: train loss/sent=0.3968, time=0.40s\n",
      "iter 79: test acc=0.3584\n",
      "iter 80: train loss/sent=0.3937, time=0.41s\n",
      "iter 80: test acc=0.3620\n",
      "iter 81: train loss/sent=0.3906, time=0.40s\n",
      "iter 81: test acc=0.3611\n",
      "iter 82: train loss/sent=0.3879, time=0.59s\n",
      "iter 82: test acc=0.3647\n",
      "iter 83: train loss/sent=0.3844, time=0.45s\n",
      "iter 83: test acc=0.3624\n",
      "iter 84: train loss/sent=0.3817, time=0.75s\n",
      "iter 84: test acc=0.3661\n",
      "iter 85: train loss/sent=0.3788, time=0.73s\n",
      "iter 85: test acc=0.3624\n",
      "iter 86: train loss/sent=0.3757, time=0.75s\n",
      "iter 86: test acc=0.3665\n",
      "iter 87: train loss/sent=0.3728, time=0.57s\n",
      "iter 87: test acc=0.3701\n",
      "iter 88: train loss/sent=0.3701, time=0.58s\n",
      "iter 88: test acc=0.3643\n",
      "iter 89: train loss/sent=0.3675, time=0.39s\n",
      "iter 89: test acc=0.3665\n",
      "iter 90: train loss/sent=0.3648, time=0.40s\n",
      "iter 90: test acc=0.3674\n",
      "iter 91: train loss/sent=0.3620, time=0.39s\n",
      "iter 91: test acc=0.3665\n",
      "iter 92: train loss/sent=0.3597, time=0.39s\n",
      "iter 92: test acc=0.3688\n",
      "iter 93: train loss/sent=0.3570, time=0.72s\n",
      "iter 93: test acc=0.3692\n",
      "iter 94: train loss/sent=0.3543, time=0.70s\n",
      "iter 94: test acc=0.3674\n",
      "iter 95: train loss/sent=0.3521, time=0.72s\n",
      "iter 95: test acc=0.3706\n",
      "iter 96: train loss/sent=0.3493, time=0.62s\n",
      "iter 96: test acc=0.3692\n",
      "iter 97: train loss/sent=0.3471, time=0.58s\n",
      "iter 97: test acc=0.3706\n",
      "iter 98: train loss/sent=0.3447, time=0.71s\n",
      "iter 98: test acc=0.3643\n",
      "iter 99: train loss/sent=0.3423, time=0.39s\n",
      "iter 99: test acc=0.3724\n"
     ]
    }
   ],
   "source": [
    "for ITER in range(100):\n",
    "    # Perform training\n",
    "    random.shuffle(train)\n",
    "    train_loss = 0.0\n",
    "    start = time.time()\n",
    "    for words, tag in train:\n",
    "        my_loss = dy.pickneglogsoftmax(calc_scores(words), tag)\n",
    "        train_loss += my_loss.value()\n",
    "        my_loss.backward()\n",
    "        trainer.update()\n",
    "    print(\"iter %r: train loss/sent=%.4f, time=%.2fs\" % (ITER, train_loss/len(train), time.time()-start))\n",
    "    # Perform testing\n",
    "    test_correct = 0.0\n",
    "    for words, tag in dev:\n",
    "        scores = calc_scores(words).npvalue()\n",
    "        predict = np.argmax(scores)\n",
    "        if predict == tag:\n",
    "            test_correct += 1\n",
    "    print(\"iter %r: test acc=%.4f\" % (ITER, test_correct/len(dev)))"
   ]
  },
  {
   "cell_type": "code",
   "execution_count": null,
   "metadata": {
    "collapsed": true
   },
   "outputs": [],
   "source": []
  },
  {
   "cell_type": "code",
   "execution_count": null,
   "metadata": {},
   "outputs": [],
   "source": []
  }
 ],
 "metadata": {
  "anaconda-cloud": {},
  "kernelspec": {
   "display_name": "Python 3",
   "language": "python",
   "name": "python3"
  },
  "language_info": {
   "codemirror_mode": {
    "name": "ipython",
    "version": 3
   },
   "file_extension": ".py",
   "mimetype": "text/x-python",
   "name": "python",
   "nbconvert_exporter": "python",
   "pygments_lexer": "ipython3",
   "version": "3.6.5"
  }
 },
 "nbformat": 4,
 "nbformat_minor": 2
}
