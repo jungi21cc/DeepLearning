{
 "cells": [
  {
   "cell_type": "code",
   "execution_count": 5,
   "metadata": {},
   "outputs": [],
   "source": [
    "from IPython.display import display\n",
    "import numpy as np\n",
    "import matplotlib.pyplot as plt\n",
    "import pandas as pd\n",
    "import seaborn as sns\n",
    "import lightgbm as lgb\n",
    "from sklearn.decomposition import PCA\n",
    "from sklearn.cluster import DBSCAN\n",
    "from sklearn.cluster import MiniBatchKMeans\n",
    "from sklearn.model_selection import train_test_split\n",
    "\n",
    "from selenium import webdriver\n",
    "\n",
    "from sklearn import metrics\n",
    "from sklearn.preprocessing import StandardScaler\n",
    "from sklearn.preprocessing import Normalizer\n",
    "\n",
    "%matplotlib inline\n",
    "\n",
    "import warnings\n",
    "warnings.filterwarnings(\"ignore\")"
   ]
  },
  {
   "cell_type": "code",
   "execution_count": 2,
   "metadata": {},
   "outputs": [],
   "source": [
    "from keras.datasets import mnist\n",
    "from keras.utils import np_utils"
   ]
  },
  {
   "cell_type": "code",
   "execution_count": 3,
   "metadata": {},
   "outputs": [],
   "source": [
    "(X_train0, y_train0), (X_test0, y_test0) = mnist.load_data()"
   ]
  },
  {
   "cell_type": "code",
   "execution_count": 10,
   "metadata": {},
   "outputs": [],
   "source": [
    "X_train = X_train0[:, :, :, np.newaxis].astype('float32') / 255.0\n",
    "X_test = X_test0[:, :, :, np.newaxis].astype('float32') / 255.0\n",
    "Y_train = np_utils.to_categorical(y_train0, 10)\n",
    "Y_test = np_utils.to_categorical(y_test0, 10)"
   ]
  },
  {
   "cell_type": "code",
   "execution_count": 13,
   "metadata": {},
   "outputs": [],
   "source": [
    "from keras.models import Sequential\n",
    "from keras.layers.core import Dense\n",
    "from keras.optimizers import SGD\n",
    "from keras.optimizers import SGD\n",
    "\n",
    "from keras.models import Sequential\n",
    "from keras.layers import Conv2D, MaxPooling2D, Flatten, Dense, Dropout\n",
    "from keras.optimizers import Adadelta\n",
    "from keras.regularizers import l2"
   ]
  },
  {
   "cell_type": "code",
   "execution_count": 18,
   "metadata": {},
   "outputs": [
    {
     "data": {
      "text/plain": [
       "(10000, 28, 28, 1)"
      ]
     },
     "execution_count": 18,
     "metadata": {},
     "output_type": "execute_result"
    }
   ],
   "source": [
    "X_test.shape"
   ]
  },
  {
   "cell_type": "code",
   "execution_count": 14,
   "metadata": {},
   "outputs": [],
   "source": [
    "np.random.seed(0)\n",
    "\n",
    "model1 = Sequential()\n",
    "\n",
    "model1.add(Conv2D(4, (5, 5), activation='relu', input_shape=(28, 28, 1), kernel_initializer='glorot_uniform'))\n",
    "model1.add(MaxPooling2D())\n",
    "model1.add(Flatten())\n",
    "model1.add(Dense(10, activation='softmax', kernel_initializer='glorot_uniform'))\n",
    "\n",
    "model1.compile(loss='categorical_crossentropy', metrics=['accuracy'], optimizer=Adadelta())"
   ]
  },
  {
   "cell_type": "code",
   "execution_count": 15,
   "metadata": {},
   "outputs": [
    {
     "name": "stdout",
     "output_type": "stream",
     "text": [
      "_________________________________________________________________\n",
      "Layer (type)                 Output Shape              Param #   \n",
      "=================================================================\n",
      "conv2d_1 (Conv2D)            (None, 24, 24, 4)         104       \n",
      "_________________________________________________________________\n",
      "max_pooling2d_1 (MaxPooling2 (None, 12, 12, 4)         0         \n",
      "_________________________________________________________________\n",
      "flatten_1 (Flatten)          (None, 576)               0         \n",
      "_________________________________________________________________\n",
      "dense_1 (Dense)              (None, 10)                5770      \n",
      "=================================================================\n",
      "Total params: 5,874\n",
      "Trainable params: 5,874\n",
      "Non-trainable params: 0\n",
      "_________________________________________________________________\n"
     ]
    }
   ],
   "source": [
    "model1.summary()"
   ]
  },
  {
   "cell_type": "code",
   "execution_count": 16,
   "metadata": {},
   "outputs": [
    {
     "name": "stdout",
     "output_type": "stream",
     "text": [
      "Train on 60000 samples, validate on 10000 samples\n",
      "Epoch 1/50\n",
      " - 16s - loss: 0.3924 - acc: 0.8879 - val_loss: 0.2095 - val_acc: 0.9428\n",
      "Epoch 2/50\n",
      " - 16s - loss: 0.1832 - acc: 0.9476 - val_loss: 0.1447 - val_acc: 0.9573\n",
      "Epoch 3/50\n",
      " - 16s - loss: 0.1359 - acc: 0.9607 - val_loss: 0.1116 - val_acc: 0.9672\n",
      "Epoch 4/50\n",
      " - 15s - loss: 0.1134 - acc: 0.9672 - val_loss: 0.0950 - val_acc: 0.9711\n",
      "Epoch 5/50\n",
      " - 16s - loss: 0.0996 - acc: 0.9709 - val_loss: 0.0866 - val_acc: 0.9741\n",
      "Epoch 6/50\n",
      " - 15s - loss: 0.0907 - acc: 0.9736 - val_loss: 0.0803 - val_acc: 0.9760\n",
      "Epoch 7/50\n",
      " - 16s - loss: 0.0837 - acc: 0.9757 - val_loss: 0.0738 - val_acc: 0.9772\n",
      "Epoch 8/50\n",
      " - 15s - loss: 0.0781 - acc: 0.9773 - val_loss: 0.0740 - val_acc: 0.9769\n",
      "Epoch 9/50\n",
      " - 16s - loss: 0.0747 - acc: 0.9785 - val_loss: 0.0689 - val_acc: 0.9777\n",
      "Epoch 10/50\n",
      " - 15s - loss: 0.0711 - acc: 0.9790 - val_loss: 0.0720 - val_acc: 0.9780\n",
      "Epoch 11/50\n",
      " - 16s - loss: 0.0683 - acc: 0.9799 - val_loss: 0.0685 - val_acc: 0.9776\n",
      "Epoch 12/50\n",
      " - 15s - loss: 0.0661 - acc: 0.9807 - val_loss: 0.0690 - val_acc: 0.9780\n",
      "Epoch 13/50\n",
      " - 16s - loss: 0.0639 - acc: 0.9811 - val_loss: 0.0630 - val_acc: 0.9787\n",
      "Epoch 14/50\n",
      " - 16s - loss: 0.0623 - acc: 0.9817 - val_loss: 0.0667 - val_acc: 0.9778\n",
      "Epoch 15/50\n",
      " - 15s - loss: 0.0605 - acc: 0.9818 - val_loss: 0.0629 - val_acc: 0.9803\n",
      "Epoch 16/50\n",
      " - 16s - loss: 0.0592 - acc: 0.9826 - val_loss: 0.0607 - val_acc: 0.9807\n",
      "Epoch 17/50\n",
      " - 16s - loss: 0.0578 - acc: 0.9831 - val_loss: 0.0633 - val_acc: 0.9789\n",
      "Epoch 18/50\n",
      " - 16s - loss: 0.0566 - acc: 0.9836 - val_loss: 0.0616 - val_acc: 0.9795\n",
      "Epoch 19/50\n",
      " - 16s - loss: 0.0552 - acc: 0.9838 - val_loss: 0.0590 - val_acc: 0.9808\n",
      "Epoch 20/50\n",
      " - 16s - loss: 0.0544 - acc: 0.9843 - val_loss: 0.0602 - val_acc: 0.9806\n",
      "Epoch 21/50\n",
      " - 16s - loss: 0.0534 - acc: 0.9845 - val_loss: 0.0579 - val_acc: 0.9815\n",
      "Epoch 22/50\n",
      " - 15s - loss: 0.0526 - acc: 0.9846 - val_loss: 0.0633 - val_acc: 0.9800\n",
      "Epoch 23/50\n",
      " - 15s - loss: 0.0514 - acc: 0.9853 - val_loss: 0.0586 - val_acc: 0.9810\n",
      "Epoch 24/50\n",
      " - 16s - loss: 0.0512 - acc: 0.9848 - val_loss: 0.0599 - val_acc: 0.9806\n",
      "Epoch 25/50\n",
      " - 15s - loss: 0.0503 - acc: 0.9855 - val_loss: 0.0617 - val_acc: 0.9803\n",
      "Epoch 26/50\n",
      " - 15s - loss: 0.0495 - acc: 0.9857 - val_loss: 0.0592 - val_acc: 0.9809\n",
      "Epoch 27/50\n",
      " - 15s - loss: 0.0491 - acc: 0.9859 - val_loss: 0.0583 - val_acc: 0.9813\n",
      "Epoch 28/50\n",
      " - 15s - loss: 0.0482 - acc: 0.9860 - val_loss: 0.0610 - val_acc: 0.9802\n",
      "Epoch 29/50\n",
      " - 15s - loss: 0.0477 - acc: 0.9861 - val_loss: 0.0594 - val_acc: 0.9809\n",
      "Epoch 30/50\n",
      " - 16s - loss: 0.0474 - acc: 0.9861 - val_loss: 0.0573 - val_acc: 0.9816\n",
      "Epoch 31/50\n",
      " - 16s - loss: 0.0468 - acc: 0.9861 - val_loss: 0.0573 - val_acc: 0.9814\n",
      "Epoch 32/50\n",
      " - 16s - loss: 0.0463 - acc: 0.9869 - val_loss: 0.0596 - val_acc: 0.9802\n",
      "Epoch 33/50\n",
      " - 15s - loss: 0.0454 - acc: 0.9869 - val_loss: 0.0563 - val_acc: 0.9811\n",
      "Epoch 34/50\n",
      " - 15s - loss: 0.0450 - acc: 0.9868 - val_loss: 0.0630 - val_acc: 0.9793\n",
      "Epoch 35/50\n",
      " - 15s - loss: 0.0443 - acc: 0.9873 - val_loss: 0.0605 - val_acc: 0.9803\n",
      "Epoch 36/50\n",
      " - 15s - loss: 0.0444 - acc: 0.9871 - val_loss: 0.0559 - val_acc: 0.9817\n",
      "Epoch 37/50\n",
      " - 16s - loss: 0.0441 - acc: 0.9873 - val_loss: 0.0567 - val_acc: 0.9820\n",
      "Epoch 38/50\n",
      " - 15s - loss: 0.0435 - acc: 0.9877 - val_loss: 0.0570 - val_acc: 0.9815\n",
      "Epoch 39/50\n",
      " - 15s - loss: 0.0430 - acc: 0.9875 - val_loss: 0.0554 - val_acc: 0.9827\n",
      "Epoch 40/50\n",
      " - 16s - loss: 0.0429 - acc: 0.9878 - val_loss: 0.0581 - val_acc: 0.9808\n",
      "Epoch 41/50\n",
      " - 15s - loss: 0.0422 - acc: 0.9876 - val_loss: 0.0552 - val_acc: 0.9822\n",
      "Epoch 42/50\n",
      " - 15s - loss: 0.0419 - acc: 0.9877 - val_loss: 0.0596 - val_acc: 0.9817\n",
      "Epoch 43/50\n",
      " - 16s - loss: 0.0414 - acc: 0.9881 - val_loss: 0.0562 - val_acc: 0.9808\n",
      "Epoch 44/50\n",
      " - 15s - loss: 0.0413 - acc: 0.9883 - val_loss: 0.0584 - val_acc: 0.9811\n",
      "Epoch 45/50\n",
      " - 16s - loss: 0.0410 - acc: 0.9881 - val_loss: 0.0597 - val_acc: 0.9814\n",
      "Epoch 46/50\n",
      " - 16s - loss: 0.0407 - acc: 0.9884 - val_loss: 0.0584 - val_acc: 0.9811\n",
      "Epoch 47/50\n",
      " - 15s - loss: 0.0399 - acc: 0.9885 - val_loss: 0.0611 - val_acc: 0.9811\n",
      "Epoch 48/50\n",
      " - 16s - loss: 0.0397 - acc: 0.9888 - val_loss: 0.0595 - val_acc: 0.9813\n",
      "Epoch 49/50\n",
      " - 16s - loss: 0.0395 - acc: 0.9884 - val_loss: 0.0578 - val_acc: 0.9819\n",
      "Epoch 50/50\n",
      " - 16s - loss: 0.0395 - acc: 0.9885 - val_loss: 0.0598 - val_acc: 0.9816\n",
      "CPU times: user 34min 53s, sys: 2min 24s, total: 37min 17s\n",
      "Wall time: 12min 56s\n"
     ]
    }
   ],
   "source": [
    "%%time\n",
    "hist1 = model1.fit(X_train, Y_train, epochs=50, batch_size=100, validation_data=(X_test, Y_test), verbose=2)"
   ]
  },
  {
   "cell_type": "code",
   "execution_count": 17,
   "metadata": {},
   "outputs": [
    {
     "data": {
      "image/png": "[encoded data removed]",
      "text/plain": [
       "<matplotlib.figure.Figure at 0x7f3b240705c0>"
      ]
     },
     "metadata": {},
     "output_type": "display_data"
    }
   ],
   "source": [
    "plt.plot(hist1.history['acc'], 'b-', label='training')\n",
    "plt.plot(hist1.history['val_acc'], 'r:', label='test')\n",
    "plt.legend()\n",
    "plt.show()"
   ]
  },
  {
   "cell_type": "code",
   "execution_count": null,
   "metadata": {},
   "outputs": [],
   "source": []
  }
 ],
 "metadata": {
  "kernelspec": {
   "display_name": "Python 3",
   "language": "python",
   "name": "python3"
  },
  "language_info": {
   "codemirror_mode": {
    "name": "ipython",
    "version": 3
   },
   "file_extension": ".py",
   "mimetype": "text/x-python",
   "name": "python",
   "nbconvert_exporter": "python",
   "pygments_lexer": "ipython3",
   "version": "3.6.3"
  }
 },
 "nbformat": 4,
 "nbformat_minor": 2
}
