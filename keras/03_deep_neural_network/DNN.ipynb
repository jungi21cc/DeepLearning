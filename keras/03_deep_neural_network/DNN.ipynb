{
 "cells": [
  {
   "cell_type": "code",
   "execution_count": 2,
   "metadata": {},
   "outputs": [],
   "source": [
    "import numpy as np\n",
    "from keras import datasets\n",
    "from keras.utils import np_utils"
   ]
  },
  {
   "cell_type": "code",
   "execution_count": 15,
   "metadata": {
    "collapsed": true
   },
   "outputs": [],
   "source": [
    "def Data_func():\n",
    "    (X_train, y_train), (X_test, y_test) = datasets.cifar10.load_data()\n",
    "    \n",
    "    \n",
    "    \n",
    "    \n",
    "    Y_train = np_utils.to_categorical(y_train)\n",
    "    Y_test = np_utils.to_categorical(y_test)\n",
    "    \n",
    "    L, W, H, C = X_train.shape\n",
    "    \n",
    "    X_train = X_train.reshape(-1, W * H * C)\n",
    "    X_test = X_test.reshape(-1, W * H * C)\n",
    "    \n",
    "    X_train = X_train / 255.0\n",
    "    X_test = X_test / 255.0\n",
    "    \n",
    "    return (X_train, Y_train), (X_test, Y_test)"
   ]
  },
  {
   "cell_type": "code",
   "execution_count": 16,
   "metadata": {},
   "outputs": [],
   "source": [
    "from keras import layers, models"
   ]
  },
  {
   "cell_type": "code",
   "execution_count": 20,
   "metadata": {
    "collapsed": true
   },
   "outputs": [],
   "source": [
    "class DNN(models.Sequential):\n",
    "    def __init__(self, Nin, Nh_1, Pd_1, Nout):\n",
    "        super().__init__()\n",
    "    \n",
    "        self.add(layers.Dense(Nh_1[0], activation = 'relu', input_shape = (Nin,), name = 'Hidden-1'))\n",
    "        self.add(layers.Dropout(Pd_1[0]))\n",
    "        self.add(layers.Dense(Nh_1[1], activation = 'relu', name = 'Hidden-2'))\n",
    "        self.add(layers.Dropout(Pd_1[1]))\n",
    "        self.add(layers.Dense(Nout, activation = 'softmax'))\n",
    "        self.compile(loss = 'categorical_crossentropy', optimizer = 'adam', metrics = ['accuracy'])\n",
    "           "
   ]
  },
  {
   "cell_type": "code",
   "execution_count": 21,
   "metadata": {},
   "outputs": [],
   "source": [
    "import numpy as np\n",
    "import matplotlib.pyplot as plt\n",
    "import os\n",
    "\n",
    "import matplotlib\n",
    "\n",
    "def save_history_history(fname, history_history, fold=''):\n",
    "    np.save(os.path.join(fold, fname), history_history)\n",
    "\n",
    "\n",
    "def load_history_history(fname, fold=''):\n",
    "    history_history = np.load(os.path.join(fold, fname)).item(0)\n",
    "    return history_history\n",
    "\n",
    "\n",
    "def plot_acc(history, title=None):\n",
    "    # summarize history for accuracy\n",
    "    if not isinstance(history, dict):\n",
    "        history = history.history\n",
    "\n",
    "    plt.plot(history['acc'])\n",
    "    plt.plot(history['val_acc'])\n",
    "    if title is not None:\n",
    "        plt.title(title)\n",
    "    plt.ylabel('Accracy')\n",
    "    plt.xlabel('Epoch')\n",
    "    plt.legend(['Training data', 'Validation data'], loc=0)\n",
    "    # plt.show()\n",
    "\n",
    "\n",
    "def plot_loss(history, title=None):\n",
    "    # summarize history for loss\n",
    "    if not isinstance(history, dict):\n",
    "        history = history.history\n",
    "\n",
    "    plt.plot(history['loss'])\n",
    "    plt.plot(history['val_loss'])\n",
    "    if title is not None:\n",
    "        plt.title(title)\n",
    "    plt.ylabel('Loss')\n",
    "    plt.xlabel('Epoch')\n",
    "    plt.legend(['Training data', 'Validation data'], loc=0)\n",
    "    # plt.show()\n",
    "\n",
    "\n",
    "def plot_history(history):\n",
    "    plt.figure(figsize=(15, 5))\n",
    "    plt.subplot(1, 2, 1)\n",
    "    plot_acc(history)\n",
    "    plt.subplot(1, 2, 2)\n",
    "    plot_loss(history)\n",
    "\n",
    "    \n",
    "def plot_loss_acc(history):\n",
    "    plot_loss(history, '(a) Loss trajectory')\n",
    "    plt.show()            \n",
    "    plot_acc(history, '(b) Accracy trajectory')\n",
    "    plt.show()\n",
    "    \n",
    "    \n",
    "def plot_acc_loss(history):\n",
    "    plot_acc(history, '(a) Accracy trajectory')\n",
    "    plt.show()\n",
    "    plot_loss(history, '(b) Loss trajectory')\n",
    "    plt.show()       "
   ]
  },
  {
   "cell_type": "code",
   "execution_count": 24,
   "metadata": {},
   "outputs": [
    {
     "name": "stdout",
     "output_type": "stream",
     "text": [
      "Train on 40000 samples, validate on 10000 samples\n",
      "Epoch 1/10\n",
      "40000/40000 [==============================] - 5s 113us/step - loss: 1.9695 - acc: 0.2888 - val_loss: 1.8644 - val_acc: 0.3407\n",
      "Epoch 2/10\n",
      "40000/40000 [==============================] - 4s 109us/step - loss: 1.8065 - acc: 0.3575 - val_loss: 1.7879 - val_acc: 0.3629\n",
      "Epoch 3/10\n",
      "40000/40000 [==============================] - 4s 112us/step - loss: 1.7374 - acc: 0.3827 - val_loss: 1.7371 - val_acc: 0.3912\n",
      "Epoch 4/10\n",
      "40000/40000 [==============================] - 5s 113us/step - loss: 1.6817 - acc: 0.4031 - val_loss: 1.6885 - val_acc: 0.4099\n",
      "Epoch 5/10\n",
      "40000/40000 [==============================] - 4s 112us/step - loss: 1.6263 - acc: 0.4221 - val_loss: 1.6436 - val_acc: 0.4134\n",
      "Epoch 6/10\n",
      "40000/40000 [==============================] - 4s 109us/step - loss: 1.5912 - acc: 0.4295 - val_loss: 1.6343 - val_acc: 0.4216\n",
      "Epoch 7/10\n",
      "40000/40000 [==============================] - 4s 111us/step - loss: 1.5669 - acc: 0.4404 - val_loss: 1.6061 - val_acc: 0.4308\n",
      "Epoch 8/10\n",
      "40000/40000 [==============================] - 4s 112us/step - loss: 1.5393 - acc: 0.4496 - val_loss: 1.6015 - val_acc: 0.4250\n",
      "Epoch 9/10\n",
      "40000/40000 [==============================] - 4s 111us/step - loss: 1.5267 - acc: 0.4505 - val_loss: 1.5944 - val_acc: 0.4388\n",
      "Epoch 10/10\n",
      "40000/40000 [==============================] - 5s 113us/step - loss: 1.5173 - acc: 0.4569 - val_loss: 1.6060 - val_acc: 0.4281\n",
      "10000/10000 [==============================] - 0s 31us/step\n",
      "Test Loss and Accuracy -> [1.5741492402553559, 0.44089999824762344]\n"
     ]
    },
    {
     "data": {
      "image/png": "[encoded data removed]",
      "text/plain": [
       "<matplotlib.figure.Figure at 0x7fb44b142da0>"
      ]
     },
     "metadata": {},
     "output_type": "display_data"
    },
    {
     "data": {
      "image/png": "[encoded data removed]",
      "text/plain": [
       "<matplotlib.figure.Figure at 0x7fb44852e128>"
      ]
     },
     "metadata": {},
     "output_type": "display_data"
    }
   ],
   "source": [
    "def main():\n",
    "    Nh_1 = [100, 50]\n",
    "    Pd_1 = [0.0, 0.0]\n",
    "    number_of_class = 10\n",
    "    Nout = number_of_class\n",
    "    \n",
    "    (X_train, Y_train), (X_test, Y_test) = Data_func()\n",
    "    model = DNN(X_train.shape[1], Nh_1, Pd_1, Nout)\n",
    "    history = model.fit(X_train, Y_train, epochs = 10, batch_size = 100, validation_split = 0.2)\n",
    "    \n",
    "    performance_test = model.evaluate(X_test, Y_test, batch_size = 100)\n",
    "    \n",
    "    print('Test Loss and Accuracy ->', performance_test)\n",
    "    plot_acc(history)\n",
    "    plt.show()\n",
    "    plot_loss(history)\n",
    "    plt.show()\n",
    "    \n",
    "if __name__ == '__main__':\n",
    "    main()\n",
    "    \n",
    "    "
   ]
  },
  {
   "cell_type": "code",
   "execution_count": null,
   "metadata": {
    "collapsed": true
   },
   "outputs": [],
   "source": []
  },
  {
   "cell_type": "code",
   "execution_count": null,
   "metadata": {
    "collapsed": true
   },
   "outputs": [],
   "source": []
  }
 ],
 "metadata": {
  "kernelspec": {
   "display_name": "Python 3",
   "language": "python",
   "name": "python3"
  },
  "language_info": {
   "codemirror_mode": {
    "name": "ipython",
    "version": 3
   },
   "file_extension": ".py",
   "mimetype": "text/x-python",
   "name": "python",
   "nbconvert_exporter": "python",
   "pygments_lexer": "ipython3",
   "version": "3.6.3"
  }
 },
 "nbformat": 4,
 "nbformat_minor": 2
}
