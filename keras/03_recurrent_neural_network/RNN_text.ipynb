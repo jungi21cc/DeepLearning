{
 "cells": [
  {
   "cell_type": "code",
   "execution_count": 1,
   "metadata": {},
   "outputs": [
    {
     "name": "stderr",
     "output_type": "stream",
     "text": [
      "/home/jk/anaconda3/lib/python3.6/site-packages/h5py/__init__.py:34: FutureWarning: Conversion of the second argument of issubdtype from `float` to `np.floating` is deprecated. In future, it will be treated as `np.float64 == np.dtype(float).type`.\n",
      "  from ._conv import register_converters as _register_converters\n",
      ".....................................................x.........................s.........................................x....................................s........ss...................................................................................................ssssss..............................F..................................x....x........................x.....x................................................ssss........F..\n",
      "======================================================================\n",
      "FAIL: test_out_of_order_offsets (h5py.tests.old.test_h5t.TestCompound)\n",
      "----------------------------------------------------------------------\n",
      "Traceback (most recent call last):\n",
      "  File \"/home/jk/anaconda3/lib/python3.6/site-packages/h5py/tests/old/test_h5t.py\", line 61, in test_out_of_order_offsets\n",
      "    self.assertEqual(tid.dtype, expected_dtype)\n",
      "AssertionError: dtype[13 chars]1','f3','f2'], 'formats':['<f4','<f8','<i4'], [30 chars]:20}) != dtype[13 chars]1','f2','f3'], 'formats':['<f4','<i4','<f8'], [30 chars]:20})\n",
      "\n",
      "======================================================================\n",
      "FAIL: test_out_of_order_offsets (h5py.tests.hl.test_datatype.TestOffsets)\n",
      "----------------------------------------------------------------------\n",
      "Traceback (most recent call last):\n",
      "  File \"/home/jk/anaconda3/lib/python3.6/site-packages/h5py/tests/hl/test_datatype.py\", line 97, in test_out_of_order_offsets\n",
      "    self.assertArrayEqual(fd['data'], data)\n",
      "  File \"/home/jk/anaconda3/lib/python3.6/site-packages/h5py/tests/common.py\", line 129, in assertArrayEqual\n",
      "    \"Dtype mismatch (%s vs %s)%s\" % (dset.dtype, arr.dtype, message)\n",
      "AssertionError: False is not true : Dtype mismatch ({'names':['f1','f3','f2'], 'formats':['<f4','<f8','<i4'], 'offsets':[0,8,16], 'itemsize':20} vs {'names':['f1','f2','f3'], 'formats':['<f4','<i4','<f8'], 'offsets':[0,16,8], 'itemsize':20})\n",
      "\n",
      "----------------------------------------------------------------------\n",
      "Ran 439 tests in 1.112s\n",
      "\n",
      "FAILED (failures=2, skipped=14, expected failures=6)\n"
     ]
    },
    {
     "data": {
      "text/plain": [
       "<unittest.runner.TextTestResult run=439 errors=0 failures=2>"
      ]
     },
     "execution_count": 1,
     "metadata": {},
     "output_type": "execute_result"
    }
   ],
   "source": [
    "import h5py\n",
    "h5py.run_tests()"
   ]
  },
  {
   "cell_type": "code",
   "execution_count": null,
   "metadata": {},
   "outputs": [],
   "source": []
  }
 ],
 "metadata": {
  "kernelspec": {
   "display_name": "Python 3",
   "language": "python",
   "name": "python3"
  },
  "language_info": {
   "codemirror_mode": {
    "name": "ipython",
    "version": 3
   },
   "file_extension": ".py",
   "mimetype": "text/x-python",
   "name": "python",
   "nbconvert_exporter": "python",
   "pygments_lexer": "ipython3",
   "version": "3.6.3"
  }
 },
 "nbformat": 4,
 "nbformat_minor": 2
}
