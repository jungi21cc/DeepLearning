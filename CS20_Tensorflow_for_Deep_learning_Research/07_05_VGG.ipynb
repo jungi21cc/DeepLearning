{
 "cells": [
  {
   "cell_type": "code",
   "execution_count": 2,
   "metadata": {},
   "outputs": [],
   "source": [
    "# import keras"
   ]
  },
  {
   "cell_type": "code",
   "execution_count": 3,
   "metadata": {},
   "outputs": [],
   "source": [
    "# keras.applications.vgg16.VGG16(include_top=True, weights='imagenet', input_tensor=None, input_shape=None, pooling=None, classes=1000)"
   ]
  },
  {
   "cell_type": "markdown",
   "metadata": {},
   "source": [
    "# github tensorflow>tensorflow>contrib>slim for VGG"
   ]
  },
  {
   "cell_type": "code",
   "execution_count": 4,
   "metadata": {},
   "outputs": [
    {
     "name": "stderr",
     "output_type": "stream",
     "text": [
      "/home/jk/anaconda3/lib/python3.6/site-packages/h5py/__init__.py:36: FutureWarning: Conversion of the second argument of issubdtype from `float` to `np.floating` is deprecated. In future, it will be treated as `np.float64 == np.dtype(float).type`.\n",
      "  from ._conv import register_converters as _register_converters\n"
     ]
    }
   ],
   "source": [
    "#import sys\n",
    "#sys.path.append(\"$HOME/models/research/slim/\")\n",
    "\n",
    "import os\n",
    "import numpy as np\n",
    "import matplotlib.pyplot as plt\n",
    "%matplotlib inline\n",
    "\n",
    "from PIL import Image\n",
    "\n",
    "\n",
    "import tensorflow as tf\n",
    "\n",
    "slim = tf.contrib.slim\n",
    "\n",
    "sess_config = tf.ConfigProto(gpu_options=tf.GPUOptions(allow_growth=True))"
   ]
  },
  {
   "cell_type": "code",
   "execution_count": 5,
   "metadata": {},
   "outputs": [],
   "source": [
    "# from tensorflow.contrib.slim.nets import vgg\n",
    "from nets import vgg"
   ]
  },
  {
   "cell_type": "code",
   "execution_count": 6,
   "metadata": {},
   "outputs": [],
   "source": [
    "def vgg_16(inputs,\n",
    "           reuse=False,\n",
    "           scope='vgg_16'):\n",
    "    \"\"\"Oxford Net VGG 16-Layers version D Example\n",
    "    My Note: This code is modified version of vgg_16 which is loacted on `models/research/slim/nets/vgg.py`\n",
    "    Note: All the fully_connected layers have been transformed to conv2d layers.\n",
    "          To use in classification mode, resize input to 224x224.\n",
    "    Args:\n",
    "      inputs: a tensor of size [batch_size, height, width, channels].\n",
    "      reuse: whether or not the model is being reused.\n",
    "      scope: Optional scope for the variables.\n",
    "    Returns:\n",
    "      net: the output of the logits layer (if num_classes is a non-zero integer),\n",
    "        or the input to the logits layer (if num_classes is 0 or None).\n",
    "      end_points: a dict of tensors with intermediate activations.\n",
    "    \"\"\"\n",
    "    with tf.variable_scope(scope, 'vgg_16', [inputs], reuse=reuse) as sc:\n",
    "        end_points_collection = sc.original_name_scope + '_end_points'\n",
    "        with slim.arg_scope([slim.conv2d, slim.fully_connected, slim.max_pool2d],       # 일단 max 플링으로.\n",
    "                            outputs_collections=end_points_collection):\n",
    "            # 여기를 직접 채워 넣으시면 됩니다.\n",
    "            net = slim.repeat(inputs, 2, slim.conv2d, 64, [3, 3], scope='conv1')\n",
    "            net = slim.max_pool2d(net, [2, 2], scope='pool1')\n",
    "            net = slim.repeat(net, 2, slim.conv2d, 128, [3, 3], scope='conv2')\n",
    "            net = slim.max_pool2d(net, [2, 2], scope='pool2')\n",
    "            net = slim.repeat(net, 3, slim.conv2d, 256, [3, 3], scope='conv3')\n",
    "            net = slim.max_pool2d(net, [2, 2], scope='pool3')\n",
    "            net = slim.repeat(net, 3, slim.conv2d, 512, [3, 3], scope='conv4')\n",
    "            net = slim.max_pool2d(net, [2, 2], scope='pool4')\n",
    "            net = slim.repeat(net, 3, slim.conv2d, 512, [3, 3], scope='conv5')\n",
    "            net = slim.max_pool2d(net, [2, 2], scope='pool5')\n",
    "\n",
    "            end_points = slim.utils.convert_collection_to_dict(end_points_collection)\n",
    "\n",
    "            return net, end_points"
   ]
  },
  {
   "cell_type": "code",
   "execution_count": 7,
   "metadata": {},
   "outputs": [],
   "source": [
    "inputs = tf.placeholder(tf.float32, [None, 224, 224, 3])"
   ]
  },
  {
   "cell_type": "code",
   "execution_count": 11,
   "metadata": {},
   "outputs": [],
   "source": [
    "with slim.arg_scope(vgg.vgg_arg_scope()):\n",
    "    outputs, end_points = vgg_16(inputs, reuse = tf.AUTO_REUSE)"
   ]
  },
  {
   "cell_type": "code",
   "execution_count": 12,
   "metadata": {},
   "outputs": [
    {
     "name": "stdout",
     "output_type": "stream",
     "text": [
      "Tensor(\"vgg_16_1/pool5/MaxPool:0\", shape=(?, 7, 7, 512), dtype=float32)\n"
     ]
    }
   ],
   "source": [
    "print(outputs)"
   ]
  },
  {
   "cell_type": "code",
   "execution_count": 13,
   "metadata": {},
   "outputs": [
    {
     "name": "stdout",
     "output_type": "stream",
     "text": [
      "vgg_16/conv1/conv1_1\n",
      "vgg_16/conv1/conv1_2\n",
      "vgg_16_1/pool1\n",
      "vgg_16/conv2/conv2_1\n",
      "vgg_16/conv2/conv2_2\n",
      "vgg_16_1/pool2\n",
      "vgg_16/conv3/conv3_1\n",
      "vgg_16/conv3/conv3_2\n",
      "vgg_16/conv3/conv3_3\n",
      "vgg_16_1/pool3\n",
      "vgg_16/conv4/conv4_1\n",
      "vgg_16/conv4/conv4_2\n",
      "vgg_16/conv4/conv4_3\n",
      "vgg_16_1/pool4\n",
      "vgg_16/conv5/conv5_1\n",
      "vgg_16/conv5/conv5_2\n",
      "vgg_16/conv5/conv5_3\n",
      "vgg_16_1/pool5\n"
     ]
    }
   ],
   "source": [
    "for node in end_points:\n",
    "    print(node)"
   ]
  },
  {
   "cell_type": "code",
   "execution_count": 14,
   "metadata": {},
   "outputs": [],
   "source": [
    "with tf.Session() as sess:\n",
    "    writer = tf.summary.FileWriter(\"./graphs/01_vgg16\", sess.graph)\n",
    "    writer.close()"
   ]
  },
  {
   "cell_type": "code",
   "execution_count": 15,
   "metadata": {},
   "outputs": [],
   "source": [
    "my_images = Image.open('baby-duck-300x225.jpg')\n",
    "my_images = my_images.resize((224, 224))\n",
    "my_images = np.asarray(my_images) / 255.\n",
    "my_images -= 0.5\n",
    "my_images *= 2.0\n",
    "\n",
    "my_images = np.expand_dims(my_images, axis=0)"
   ]
  },
  {
   "cell_type": "code",
   "execution_count": 18,
   "metadata": {},
   "outputs": [
    {
     "name": "stdout",
     "output_type": "stream",
     "text": [
      "INFO:tensorflow:Restoring parameters from vgg_16_ckpt/vgg_16.ckpt\n"
     ]
    }
   ],
   "source": [
    "saver = tf.train.Saver()\n",
    "\n",
    "with tf.Session(config=sess_config) as sess:\n",
    "\n",
    "    # use saver object to load variables from the saved model\n",
    "    saver.restore(sess, \"vgg_16_ckpt/vgg_16.ckpt\")\n",
    "\n",
    "    # print conv1_1 weight itself\n",
    "    conv1_1_w = sess.run(tf.trainable_variables()[0])\n",
    "\n",
    "    # print feature maps\n",
    "    conv1_1, conv2_1, \\\n",
    "    conv3_2, conv4_3, \\\n",
    "    conv5_3 = sess.run([end_points['vgg_16/conv1/conv1_1'],\n",
    "                      end_points['vgg_16/conv2/conv2_1'],\n",
    "                      end_points['vgg_16/conv3/conv3_2'],\n",
    "                      end_points['vgg_16/conv4/conv4_3'],\n",
    "                      end_points['vgg_16/conv5/conv5_3']],\n",
    "                     feed_dict={inputs: my_images})"
   ]
  },
  {
   "cell_type": "code",
   "execution_count": 19,
   "metadata": {},
   "outputs": [
    {
     "data": {
      "image/png": "[encoded data removed]",
      "text/plain": [
       "<Figure size 432x288 with 5 Axes>"
      ]
     },
     "metadata": {},
     "output_type": "display_data"
    }
   ],
   "source": [
    "#plt.figure(figsize=(max_print, 1))\n",
    "#plt.axis('off')\n",
    "channel_index = 30\n",
    "plt.subplot(231)\n",
    "plt.imshow(conv1_1[0,:,:,channel_index], cmap='gray')\n",
    "plt.subplot(232)\n",
    "plt.imshow(conv2_1[0,:,:,channel_index], cmap='gray')\n",
    "plt.subplot(233)\n",
    "plt.imshow(conv3_2[0,:,:,channel_index], cmap='gray')\n",
    "plt.subplot(234)\n",
    "plt.imshow(conv4_3[0,:,:,channel_index], cmap='gray')\n",
    "plt.subplot(235)\n",
    "plt.imshow(conv5_3[0,:,:,channel_index], cmap='gray')\n",
    "plt.show()"
   ]
  },
  {
   "cell_type": "code",
   "execution_count": null,
   "metadata": {},
   "outputs": [],
   "source": []
  },
  {
   "cell_type": "code",
   "execution_count": null,
   "metadata": {},
   "outputs": [],
   "source": []
  },
  {
   "cell_type": "code",
   "execution_count": null,
   "metadata": {},
   "outputs": [],
   "source": []
  },
  {
   "cell_type": "code",
   "execution_count": null,
   "metadata": {},
   "outputs": [],
   "source": []
  }
 ],
 "metadata": {
  "kernelspec": {
   "display_name": "Python 3",
   "language": "python",
   "name": "python3"
  },
  "language_info": {
   "codemirror_mode": {
    "name": "ipython",
    "version": 3
   },
   "file_extension": ".py",
   "mimetype": "text/x-python",
   "name": "python",
   "nbconvert_exporter": "python",
   "pygments_lexer": "ipython3",
   "version": "3.6.5"
  }
 },
 "nbformat": 4,
 "nbformat_minor": 2
}
