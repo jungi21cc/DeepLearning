{
 "cells": [
  {
   "cell_type": "markdown",
   "metadata": {},
   "source": [
    "# Residual Neural Network"
   ]
  },
  {
   "cell_type": "code",
   "execution_count": 1,
   "metadata": {},
   "outputs": [
    {
     "name": "stderr",
     "output_type": "stream",
     "text": [
      "/home/jk/anaconda3/lib/python3.6/site-packages/h5py/__init__.py:36: FutureWarning: Conversion of the second argument of issubdtype from `float` to `np.floating` is deprecated. In future, it will be treated as `np.float64 == np.dtype(float).type`.\n",
      "  from ._conv import register_converters as _register_converters\n"
     ]
    }
   ],
   "source": [
    "import tensorflow as tf\n",
    "import numpy as np\n",
    "import matplotlib.pyplot as plt\n",
    "import time\n",
    "\n",
    "slim = tf.contrib.slim"
   ]
  },
  {
   "cell_type": "code",
   "execution_count": 2,
   "metadata": {},
   "outputs": [],
   "source": [
    "tf.reset_default_graph()"
   ]
  },
  {
   "cell_type": "markdown",
   "metadata": {},
   "source": [
    "# import data set"
   ]
  },
  {
   "cell_type": "code",
   "execution_count": 3,
   "metadata": {},
   "outputs": [],
   "source": [
    "(x_train, y_train), (x_test, y_test) =  tf.keras.datasets.mnist.load_data()\n",
    "\n",
    "x_train = x_train/255.0\n",
    "x_train = x_train.astype(dtype=np.float32)\n",
    "y_train = np.asarray(y_train, dtype=np.int32)\n",
    "\n",
    "x_test = x_test/255.0\n",
    "x_test = x_test.astype(np.float32)\n",
    "y_test = np.asarray(y_test, dtype=np.int32)"
   ]
  },
  {
   "cell_type": "code",
   "execution_count": 4,
   "metadata": {},
   "outputs": [
    {
     "data": {
      "text/plain": [
       "((60000, 28, 28), (60000,), (10000, 28, 28), (10000,))"
      ]
     },
     "execution_count": 4,
     "metadata": {},
     "output_type": "execute_result"
    }
   ],
   "source": [
    "x_train.shape, y_train.shape, x_test.shape, y_test.shape"
   ]
  },
  {
   "cell_type": "code",
   "execution_count": 5,
   "metadata": {},
   "outputs": [
    {
     "data": {
      "text/plain": [
       "((6000, 28, 28), (6000,), (2000, 28, 28), (2000,))"
      ]
     },
     "execution_count": 5,
     "metadata": {},
     "output_type": "execute_result"
    }
   ],
   "source": [
    "#sampling\n",
    "train_data_size  = 6000\n",
    "train_idx = np.random.choice(np.arange(x_train.shape[0]), size=train_data_size, replace=False)\n",
    "# print(train_idx)\n",
    "x_train = x_train[train_idx]\n",
    "y_train = y_train[train_idx]\n",
    "\n",
    "train_data_size  = 2000\n",
    "test_idx = np.random.choice(np.arange(x_train.shape[0]), size=train_data_size, replace=False)\n",
    "# print(train_idx)\n",
    "x_test = x_test[test_idx]\n",
    "y_test = y_test[test_idx]\n",
    "\n",
    "x_train.shape, y_train.shape, x_test.shape, y_test.shape"
   ]
  },
  {
   "cell_type": "markdown",
   "metadata": {},
   "source": [
    "# split data"
   ]
  },
  {
   "cell_type": "code",
   "execution_count": 6,
   "metadata": {},
   "outputs": [
    {
     "name": "stdout",
     "output_type": "stream",
     "text": [
      "train data : (5000, 28, 28), (5000,)\n",
      "val data : (1000, 28, 28), (1000,)\n"
     ]
    }
   ],
   "source": [
    "# train_data_size  = 50000\n",
    "train_data_size  = 5000\n",
    "train_idx = np.random.choice(np.arange(x_train.shape[0]), size=train_data_size, replace=False)\n",
    "# print(train_idx)\n",
    "x_tr = x_train[train_idx]\n",
    "y_tr = y_train[train_idx]\n",
    "\n",
    "x_val = np.delete(arr=x_train, obj=train_idx, axis=0)\n",
    "y_val = np.delete(arr=y_train, obj=train_idx, axis=0)\n",
    "\n",
    "print('train data : {}, {}'.format(x_tr.shape, y_tr.shape))\n",
    "print('val data : {}, {}'.format(x_val.shape, y_val.shape))"
   ]
  },
  {
   "cell_type": "markdown",
   "metadata": {},
   "source": [
    "# setup dataset with tf.data"
   ]
  },
  {
   "cell_type": "code",
   "execution_count": 7,
   "metadata": {},
   "outputs": [
    {
     "name": "stdout",
     "output_type": "stream",
     "text": [
      "<BatchDataset shapes: ((?, 28, 28), (?,)), types: (tf.float32, tf.int32)>\n",
      "<BatchDataset shapes: ((?, 28, 28), (?,)), types: (tf.float32, tf.int32)>\n"
     ]
    }
   ],
   "source": [
    "batch_size  = 32\n",
    "\n",
    "# for training\n",
    "tr_dataset = tf.data.Dataset.from_tensor_slices((x_tr, y_tr))\n",
    "# tr_dataset = tr_dataset.shuffle(buffer_size = 10000)\n",
    "tr_dataset = tr_dataset.batch(batch_size = batch_size)\n",
    "tr_iterator = tr_dataset.make_initializable_iterator()\n",
    "\n",
    "print(tr_dataset)\n",
    "\n",
    "# for validation\n",
    "# validation data의 용량이 in memory에 넣을 수 없을정도로 아래와 같이 활용한다.\n",
    "val_dataset = tf.data.Dataset.from_tensor_slices((x_val, y_val))\n",
    "# val_dataset = val_dataset.shuffle(buffer_size = 10000)\n",
    "val_dataset = val_dataset.batch(batch_size = batch_size)\n",
    "val_iterator = val_dataset.make_initializable_iterator()\n",
    "\n",
    "print(val_dataset)"
   ]
  },
  {
   "cell_type": "code",
   "execution_count": 8,
   "metadata": {},
   "outputs": [],
   "source": [
    "# tf.data.Iterator.from_string_handle의 output_shapes는 default = None이지만 꼭 값을 넣는 게 좋음\n",
    "handle = tf.placeholder(tf.string)\n",
    "iterator = tf.data.Iterator.from_string_handle(handle,\n",
    "                                               tr_dataset.output_types,\n",
    "                                               tr_dataset.output_shapes)\n",
    "x, y = iterator.get_next()"
   ]
  },
  {
   "cell_type": "markdown",
   "metadata": {},
   "source": [
    "# build model"
   ]
  },
  {
   "cell_type": "code",
   "execution_count": 9,
   "metadata": {},
   "outputs": [],
   "source": [
    "def residual_block(input_layer, kernels, filters, stride, is_training):\n",
    "    \"\"\"\n",
    "    input -> Conv -> Relu -> Conv -> Addition -> Relu -> Output\n",
    "    \"\"\"\n",
    "    \n",
    "    conv = tf.layers.conv2d(input_layer, filters=filters, kernel_size=kernels, strides=stride, \n",
    "                    activation=None, padding='SAME')\n",
    "    conv = tf.layers.batch_normalization(conv, epsilon=1e-5, training=is_training)\n",
    "    conv = tf.nn.relu(conv)\n",
    "    \n",
    "    conv = tf.layers.conv2d(conv, filters=filters, kernel_size=kernels, strides=stride, padding='SAME')\n",
    "    conv = tf.layers.batch_normalization(conv, epsilon=1e-5, training=is_training)\n",
    "    \n",
    "    input_projection = tf.layers.conv2d(input_layer, filters=filters, kernel_size=1, strides=1)\n",
    "    conv_shortcut_connection = tf.nn.relu(tf.add(conv, input_projection))\n",
    "    \n",
    "    conv = tf.layers.conv2d(conv_shortcut_connection, filters=filters, kernel_size=kernels, strides=stride, \n",
    "                    activation=tf.nn.relu, padding='SAME')\n",
    "    conv = tf.layers.batch_normalization(conv, epsilon=1e-5, training=is_training)\n",
    "    conv = tf.nn.relu(conv)\n",
    "    \n",
    "    conv = tf.layers.conv2d(conv, filters=filters, kernel_size=kernels, strides=stride, padding='SAME')\n",
    "    conv = tf.layers.batch_normalization(conv, epsilon=1e-5, training=is_training)\n",
    "    \n",
    "    conv_shortcut_connection = tf.nn.relu(tf.add(conv, conv_shortcut_connection))\n",
    "    \n",
    "    return tf.layers.max_pooling2d(conv_shortcut_connection, pool_size=2, strides=2, padding='SAME')"
   ]
  },
  {
   "cell_type": "code",
   "execution_count": 10,
   "metadata": {},
   "outputs": [],
   "source": [
    "def cnn_model(x):\n",
    "    \n",
    "    is_training = tf.placeholder(tf.bool)\n",
    "    \n",
    "    with tf.variable_scope('input_layer'):\n",
    "        input_layer = tf.reshape(x, shape=[-1, 28, 28, 1])\n",
    "        # Now [batch x 28 x 28 x 1]\n",
    "        conv = tf.layers.conv2d(input_layer, filters=8, kernel_size=3, strides=1, padding='SAME',\n",
    "                               activation=tf.nn.relu)\n",
    "        # Now [batch x 28 x 28 x 8]\n",
    "        \n",
    "    with tf.variable_scope('residual_1'):\n",
    "        conv = residual_block(conv, kernels=3, filters=16, stride=1, is_training=is_training)\n",
    "        # Now [batch x 14 x 14 x 16]\n",
    "    with tf.variable_scope('residual_2'):\n",
    "        conv = residual_block(conv, kernels=3, filters=32, stride=1, is_training=is_training)\n",
    "        # Now [batch x 7 x 7 x 32]\n",
    "    with tf.variable_scope('residual_3'):\n",
    "        conv = residual_block(conv, kernels=3, filters=64, stride=1, is_training=is_training)\n",
    "        # Now [batch x 4 x 4 x 64]\n",
    "        \n",
    "    with tf.variable_scope('dense'):\n",
    "        flatten = tf.reshape(conv, [-1, 4*4*64]) # tf.layer.flatten(conv)\n",
    "    \n",
    "        fc1 = tf.layers.dense(flatten, 1024, activation=tf.nn.relu, name='fc1')\n",
    "        \n",
    "        dropout = tf.layers.dropout(fc1, rate=0.4, training=is_training, name='dropout')\n",
    "        logits = tf.layers.dense(dropout, 10, name='logits')\n",
    "        \n",
    "        return logits, is_training, input_layer"
   ]
  },
  {
   "cell_type": "code",
   "execution_count": 11,
   "metadata": {},
   "outputs": [],
   "source": [
    "logits, is_training, x_image = cnn_model(x)"
   ]
  },
  {
   "cell_type": "markdown",
   "metadata": {},
   "source": [
    "# define loss and optimizer"
   ]
  },
  {
   "cell_type": "code",
   "execution_count": 12,
   "metadata": {},
   "outputs": [],
   "source": [
    "cross_entropy = tf.losses.sparse_softmax_cross_entropy(labels=y, logits=logits)\n",
    "\n",
    "with tf.control_dependencies(tf.get_collection(tf.GraphKeys.UPDATE_OPS)):\n",
    "    train_step = tf.train.AdamOptimizer().minimize(cross_entropy)"
   ]
  },
  {
   "cell_type": "markdown",
   "metadata": {},
   "source": [
    "# assign tf.summary.filewriter"
   ]
  },
  {
   "cell_type": "code",
   "execution_count": 13,
   "metadata": {},
   "outputs": [
    {
     "name": "stdout",
     "output_type": "stream",
     "text": [
      "Saving grapg to: graphs/tensorflow_resnet\n"
     ]
    }
   ],
   "source": [
    "graph_location = 'graphs/tensorflow_resnet'\n",
    "print('Saving grapg to: %s' % graph_location)\n",
    "# open FileWriter\n",
    "train_writer = tf.summary.FileWriter(graph_location)\n",
    "# add current default graph to the writer\n",
    "train_writer.add_graph(tf.get_default_graph())"
   ]
  },
  {
   "cell_type": "markdown",
   "metadata": {},
   "source": [
    "# tf.summary"
   ]
  },
  {
   "cell_type": "code",
   "execution_count": 14,
   "metadata": {},
   "outputs": [],
   "source": [
    "with tf.name_scope('summaries'):\n",
    "    tf.summary.scalar('loss/cross_entropy', cross_entropy)\n",
    "    tf.summary.image('images', x_image)\n",
    "    for var in tf.trainable_variables():\n",
    "        tf.summary.histogram(var.op.name, var)\n",
    "    summary_op = tf.summary.merge_all()"
   ]
  },
  {
   "cell_type": "markdown",
   "metadata": {},
   "source": [
    "# tf.session and train"
   ]
  },
  {
   "cell_type": "code",
   "execution_count": 15,
   "metadata": {},
   "outputs": [],
   "source": [
    "# sess_config = tf.ConfigProto(gpu_options=tf.GPUOptions(allow_growth=True))\n",
    "sess_config = tf.ConfigProto()\n",
    "sess = tf.Session(config=sess_config)\n",
    "sess.run(tf.global_variables_initializer())\n",
    "\n",
    "# history\n",
    "tr_hist = []\n",
    "val_hist = []\n",
    "\n",
    "# Generate handles of tr_iterator and val_iterator\n",
    "tr_handle, val_handle = sess.run(fetches = [tr_iterator.string_handle(), val_iterator.string_handle()])\n",
    "\n",
    "# Train\n",
    "max_epochs = 10"
   ]
  },
  {
   "cell_type": "code",
   "execution_count": 16,
   "metadata": {},
   "outputs": [
    {
     "name": "stdout",
     "output_type": "stream",
     "text": [
      "Epoch: 0 Training Elapsed Time : 59.14239573478699\n",
      "epochs :   1, tr_loss : 1.149, val_loss : 5.016\n",
      "Epoch: 1 Training Elapsed Time : 53.094382762908936\n",
      "epochs :   2, tr_loss : 0.212, val_loss : 8.413\n",
      "Epoch: 2 Training Elapsed Time : 53.07544732093811\n",
      "epochs :   3, tr_loss : 0.141, val_loss : 4.246\n",
      "Epoch: 3 Training Elapsed Time : 52.980950117111206\n",
      "epochs :   4, tr_loss : 0.098, val_loss : 0.192\n",
      "Epoch: 4 Training Elapsed Time : 52.98998165130615\n",
      "epochs :   5, tr_loss : 0.068, val_loss : 0.160\n",
      "Epoch: 5 Training Elapsed Time : 58.74895787239075\n",
      "epochs :   6, tr_loss : 0.062, val_loss : 0.277\n",
      "Epoch: 6 Training Elapsed Time : 54.29810667037964\n",
      "epochs :   7, tr_loss : 0.063, val_loss : 0.144\n",
      "Epoch: 7 Training Elapsed Time : 53.83039736747742\n",
      "epochs :   8, tr_loss : 0.062, val_loss : 0.085\n",
      "Epoch: 8 Training Elapsed Time : 54.951926708221436\n",
      "epochs :   9, tr_loss : 0.053, val_loss : 0.111\n",
      "Epoch: 9 Training Elapsed Time : 57.48037147521973\n",
      "epochs :  10, tr_loss : 0.038, val_loss : 0.157\n"
     ]
    }
   ],
   "source": [
    "for epoch in range(max_epochs):\n",
    "    \n",
    "    avg_tr_loss = 0\n",
    "    avg_val_loss = 0\n",
    "    tr_step = 0\n",
    "    val_step = 0\n",
    "    \n",
    "    # training 1-epoch\n",
    "    sess.run(tr_iterator.initializer)\n",
    "    start_time = time.time()\n",
    "    \n",
    "    while True:\n",
    "        try:\n",
    "#             print(tr_step)\n",
    "            _, tr_loss = sess.run(fetches = [train_step, cross_entropy],\n",
    "                               feed_dict = {handle : tr_handle, is_training : True})\n",
    "            \n",
    "            \n",
    "            if tr_step % 100 == 0:\n",
    "                summary_str = sess.run(summary_op, feed_dict={handle: tr_handle, is_training: False})\n",
    "                train_writer.add_summary(summary_str, global_step=tr_step)\n",
    "            tr_step += 1\n",
    "            avg_tr_loss += tr_loss\n",
    "\n",
    "        except tf.errors.OutOfRangeError:\n",
    "            break\n",
    "    print(\"Epoch: {} Training Elapsed Time : {}\".format(epoch, time.time()-start_time))\n",
    "    \n",
    "    # validation 1-epoch\n",
    "    sess.run(val_iterator.initializer)\n",
    "    while True:\n",
    "        try:\n",
    "            val_loss = sess.run(cross_entropy, \n",
    "                                feed_dict = {handle : val_handle, is_training : False})\n",
    "            val_step += 1\n",
    "            avg_val_loss += val_loss\n",
    "        \n",
    "        except tf.errors.OutOfRangeError:\n",
    "            break\n",
    "            \n",
    "    avg_tr_loss /= tr_step\n",
    "    avg_val_loss /= val_step\n",
    "    tr_hist.append(avg_tr_loss)\n",
    "    val_hist.append(avg_val_loss)\n",
    "    \n",
    "    print('epochs : {:3}, tr_loss : {:.3f}, val_loss : {:.3f}'.format(epoch + 1, avg_tr_loss, avg_val_loss))"
   ]
  },
  {
   "cell_type": "markdown",
   "metadata": {},
   "source": [
    "# test trained model"
   ]
  },
  {
   "cell_type": "code",
   "execution_count": 17,
   "metadata": {},
   "outputs": [],
   "source": [
    "yhat = sess.run(logits, feed_dict = {x : x_test, is_training : False})\n",
    "yhat = np.argmax(yhat, axis = 1)"
   ]
  },
  {
   "cell_type": "code",
   "execution_count": 18,
   "metadata": {},
   "outputs": [
    {
     "name": "stdout",
     "output_type": "stream",
     "text": [
      "test accuracy : 96.80%\n"
     ]
    }
   ],
   "source": [
    "print('test accuracy : {:.2%}'.format(np.mean(yhat == y_test)))"
   ]
  },
  {
   "cell_type": "markdown",
   "metadata": {},
   "source": [
    "# visualize history"
   ]
  },
  {
   "cell_type": "code",
   "execution_count": 19,
   "metadata": {},
   "outputs": [
    {
     "data": {
      "text/plain": [
       "<matplotlib.legend.Legend at 0x7f8ff69df3c8>"
      ]
     },
     "execution_count": 19,
     "metadata": {},
     "output_type": "execute_result"
    },
    {
     "data": {
      "image/png": "[encoded data removed]",
      "text/plain": [
       "<Figure size 432x288 with 1 Axes>"
      ]
     },
     "metadata": {},
     "output_type": "display_data"
    }
   ],
   "source": [
    "plt.plot(tr_hist, label = 'train')\n",
    "plt.plot(val_hist, label = 'validation')\n",
    "plt.legend()"
   ]
  },
  {
   "cell_type": "code",
   "execution_count": null,
   "metadata": {},
   "outputs": [],
   "source": []
  }
 ],
 "metadata": {
  "kernelspec": {
   "display_name": "Python 3",
   "language": "python",
   "name": "python3"
  },
  "language_info": {
   "codemirror_mode": {
    "name": "ipython",
    "version": 3
   },
   "file_extension": ".py",
   "mimetype": "text/x-python",
   "name": "python",
   "nbconvert_exporter": "python",
   "pygments_lexer": "ipython3",
   "version": "3.6.5"
  }
 },
 "nbformat": 4,
 "nbformat_minor": 2
}
