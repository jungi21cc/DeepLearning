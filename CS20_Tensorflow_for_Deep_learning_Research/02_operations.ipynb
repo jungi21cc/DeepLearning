{
 "cells": [
  {
   "cell_type": "markdown",
   "metadata": {},
   "source": [
    "# Lecture2\n",
    "# Operations"
   ]
  },
  {
   "cell_type": "code",
   "execution_count": 2,
   "metadata": {},
   "outputs": [],
   "source": [
    "import tensorflow as tf\n",
    "import os\n",
    "#tf error message ignore\n",
    "os.environ['TF_CPP_MIN_LOG_LEVEL']='1'"
   ]
  },
  {
   "cell_type": "markdown",
   "metadata": {},
   "source": [
    "# visualize it with tensorboard"
   ]
  },
  {
   "cell_type": "code",
   "execution_count": 7,
   "metadata": {},
   "outputs": [],
   "source": [
    "tf.reset_default_graph()\n",
    "a = tf.constant(2)\n",
    "b = tf.constant(3)\n",
    "x = tf.add(a, b)"
   ]
  },
  {
   "cell_type": "code",
   "execution_count": 8,
   "metadata": {},
   "outputs": [
    {
     "name": "stdout",
     "output_type": "stream",
     "text": [
      "5\n"
     ]
    }
   ],
   "source": [
    "#graph/01\n",
    "writer = tf.summary.FileWriter('./graphs/01', tf.get_default_graph())\n",
    "with tf.Session() as sess:\n",
    "    print(sess.run(x))\n",
    "    \n",
    "writer.close()\n",
    "#!tensorboard --logdir=\"./graphs/01\" --port 6006"
   ]
  },
  {
   "cell_type": "code",
   "execution_count": 10,
   "metadata": {},
   "outputs": [],
   "source": [
    "#graph/02\n",
    "tf.reset_default_graph()\n",
    "a = tf.constant(2)\n",
    "b = tf.constant(3)\n",
    "x = tf.add(a, b)\n",
    "writer = tf.summary.FileWriter('./graphs/02', tf.get_default_graph())\n",
    "writer.close()\n",
    "#!tensorboard --logdir=\"./graphs/02\" --port 6006"
   ]
  },
  {
   "cell_type": "markdown",
   "metadata": {},
   "source": [
    "# explicitly name them"
   ]
  },
  {
   "cell_type": "code",
   "execution_count": 13,
   "metadata": {},
   "outputs": [
    {
     "name": "stdout",
     "output_type": "stream",
     "text": [
      "5\n"
     ]
    }
   ],
   "source": [
    "tf.reset_default_graph()\n",
    "a = tf.constant(2, name='a')\n",
    "b = tf.constant(3, name='b')\n",
    "x = tf.add(a,b, name='add')\n",
    "writer = tf.summary.FileWriter('./graphs/03', tf.get_default_graph())\n",
    "with tf.Session() as sess:\n",
    "    print(sess.run(x))\n",
    "writer.close()"
   ]
  },
  {
   "cell_type": "markdown",
   "metadata": {},
   "source": [
    "# Constants"
   ]
  },
  {
   "cell_type": "code",
   "execution_count": 16,
   "metadata": {},
   "outputs": [
    {
     "name": "stdout",
     "output_type": "stream",
     "text": [
      "[[0 2]\n",
      " [4 6]]\n"
     ]
    }
   ],
   "source": [
    "a = tf.constant([2, 2], name='a')\n",
    "b = tf.constant([[0, 1], [2, 3]], name='b')\n",
    "x = tf.multiply(a, b, name='mul')\n",
    "\n",
    "with tf.Session() as sess:\n",
    "    print(sess.run(x))"
   ]
  },
  {
   "cell_type": "markdown",
   "metadata": {},
   "source": [
    "# tensors filled with a specific value"
   ]
  },
  {
   "cell_type": "code",
   "execution_count": 18,
   "metadata": {},
   "outputs": [
    {
     "name": "stdout",
     "output_type": "stream",
     "text": [
      "[[0 0 0]\n",
      " [0 0 0]]\n"
     ]
    }
   ],
   "source": [
    "#shape, dtype, name\n",
    "a = tf.zeros([2,3], tf.int32)\n",
    "with tf.Session() as sess:\n",
    "    print(sess.run(a))"
   ]
  },
  {
   "cell_type": "code",
   "execution_count": 20,
   "metadata": {},
   "outputs": [
    {
     "name": "stdout",
     "output_type": "stream",
     "text": [
      "[[8 8 8]\n",
      " [8 8 8]]\n"
     ]
    }
   ],
   "source": [
    "#dims, value, name\n",
    "b = tf.fill([2,3], 8)\n",
    "with tf.Session() as sess:\n",
    "    print(sess.run(b))"
   ]
  },
  {
   "cell_type": "markdown",
   "metadata": {},
   "source": [
    "# constants as sequences"
   ]
  },
  {
   "cell_type": "code",
   "execution_count": 22,
   "metadata": {},
   "outputs": [
    {
     "name": "stdout",
     "output_type": "stream",
     "text": [
      "[10. 11. 12. 13.]\n"
     ]
    }
   ],
   "source": [
    "#start, stop, num, name\n",
    "a = tf.lin_space(10.0, 13.0, 4)\n",
    "with tf.Session() as sess:\n",
    "    print(sess.run(a))"
   ]
  },
  {
   "cell_type": "markdown",
   "metadata": {},
   "source": [
    "# randomly generated constants"
   ]
  },
  {
   "cell_type": "code",
   "execution_count": 24,
   "metadata": {},
   "outputs": [
    {
     "name": "stdout",
     "output_type": "stream",
     "text": [
      "[[ 0.28183395  2.3878284   2.2804048 ]\n",
      " [-0.308662   -0.44758153 -0.807146  ]]\n"
     ]
    }
   ],
   "source": [
    "#set seed\n",
    "tf.set_random_seed(1)\n",
    "#random generate number\n",
    "a = tf.random_normal([2,3], seed=1)\n",
    "with tf.Session() as sess:\n",
    "    print(sess.run(a))"
   ]
  },
  {
   "cell_type": "markdown",
   "metadata": {},
   "source": [
    "# operations"
   ]
  },
  {
   "cell_type": "code",
   "execution_count": 26,
   "metadata": {},
   "outputs": [
    {
     "name": "stdout",
     "output_type": "stream",
     "text": [
      "[5 7]\n",
      "[-1 -1]\n",
      "[ 6 12]\n",
      "[0 0]\n",
      "[0.66666667 0.75      ]\n"
     ]
    }
   ],
   "source": [
    "#basic operator\n",
    "a = tf.constant([2,3], name='a')\n",
    "b = tf.constant([3,4], name='b')\n",
    "with tf.Session() as sess:\n",
    "    print(sess.run(tf.add(a,b)))\n",
    "    print(sess.run(tf.subtract(a,b)))\n",
    "    print(sess.run(tf.multiply(a,b)))\n",
    "    print(sess.run(tf.div(a,b)))\n",
    "    print(sess.run(tf.divide(a,b)))"
   ]
  },
  {
   "cell_type": "markdown",
   "metadata": {},
   "source": [
    "# TF vs NP data types"
   ]
  },
  {
   "cell_type": "code",
   "execution_count": 28,
   "metadata": {},
   "outputs": [
    {
     "name": "stdout",
     "output_type": "stream",
     "text": [
      "True\n"
     ]
    }
   ],
   "source": [
    "import numpy as np\n",
    "print(tf.int32 == np.int32)"
   ]
  },
  {
   "cell_type": "code",
   "execution_count": 30,
   "metadata": {},
   "outputs": [
    {
     "name": "stdout",
     "output_type": "stream",
     "text": [
      "<class 'tensorflow.python.framework.ops.Tensor'>\n",
      "<class 'numpy.ndarray'>\n"
     ]
    }
   ],
   "source": [
    "a = tf.zeros([2,3], np.int32)\n",
    "with tf.Session() as sess:\n",
    "    print(type(a))\n",
    "    print(type(sess.run(a)))"
   ]
  },
  {
   "cell_type": "markdown",
   "metadata": {},
   "source": [
    "# Variables"
   ]
  },
  {
   "cell_type": "code",
   "execution_count": 33,
   "metadata": {},
   "outputs": [],
   "source": [
    "#one way, but not recommended\n",
    "s = tf.Variable(2, name='scalar')\n",
    "m = tf.Variable([[2,3],[1,2]], name='matrix')\n",
    "w = tf.Variable(tf.zeros([784,10]))"
   ]
  },
  {
   "cell_type": "code",
   "execution_count": 34,
   "metadata": {},
   "outputs": [],
   "source": [
    "s = tf.get_variable('scalar', initializer=tf.constant(2))\n",
    "m = tf.get_variable('matrix', initializer=tf.constant([[1,2],[3,4]]))\n",
    "w = tf.get_variable('big_matix', shape=[784, 10], initializer=tf.zeros_initializer())"
   ]
  },
  {
   "cell_type": "code",
   "execution_count": 38,
   "metadata": {},
   "outputs": [],
   "source": [
    "#need to initiate varialbes\n",
    "with tf.Session() as sess:\n",
    "    sess.run(tf.global_variables_initializer())"
   ]
  },
  {
   "cell_type": "code",
   "execution_count": 39,
   "metadata": {},
   "outputs": [],
   "source": [
    "# #initilize only a subset of variables\n",
    "# with tf.Session() as sess:\n",
    "#     sess.run(tf.variables_initializer([a, b]))"
   ]
  },
  {
   "cell_type": "code",
   "execution_count": 48,
   "metadata": {},
   "outputs": [],
   "source": [
    "# #initializer a single variable\n",
    "# w = tf.Variable(tf.zeros[784,10])\n",
    "# with tf.Session() as sess:\n",
    "#     sess.run(w.initializer)"
   ]
  },
  {
   "cell_type": "markdown",
   "metadata": {},
   "source": [
    "# tf.constant vs tf.Variable ??\n",
    "- constant => an op (method)\n",
    "- varialbe => class with many ops (class)"
   ]
  },
  {
   "cell_type": "markdown",
   "metadata": {},
   "source": [
    "# tf.Eval()"
   ]
  },
  {
   "cell_type": "code",
   "execution_count": 42,
   "metadata": {},
   "outputs": [
    {
     "name": "stdout",
     "output_type": "stream",
     "text": [
      "<tf.Variable 'Variable_6:0' shape=(700, 10) dtype=float32_ref>\n",
      "700\n",
      "[[-0.26150474  0.30394322 -0.56085575 ...  0.57151264  1.4582915\n",
      "  -1.0479068 ]\n",
      " [-1.1494715   0.8708207  -0.7058662  ... -0.00303084 -0.31915438\n",
      "  -1.627774  ]\n",
      " [-0.16629936  1.1293253  -1.9995943  ...  0.8351866   0.10691766\n",
      "   0.16578136]\n",
      " ...\n",
      " [ 1.7071378  -1.0033855  -0.3689148  ...  0.14216703 -0.4332929\n",
      "  -1.0991384 ]\n",
      " [-1.6153555   0.5535265   0.300629   ...  0.40379003  0.6065082\n",
      "  -0.04709903]\n",
      " [ 0.6397138   0.968461    0.3651416  ...  0.49500555  0.3197348\n",
      "  -1.0387429 ]]\n",
      "(700, 10)\n"
     ]
    }
   ],
   "source": [
    "w = tf.Variable(tf.truncated_normal([700, 10]))\n",
    "with tf.Session() as sess:\n",
    "    sess.run(w.initializer)\n",
    "    print(w)\n",
    "    print(len(w.eval()))\n",
    "    print(w.eval())\n",
    "    print(w.shape)"
   ]
  },
  {
   "cell_type": "markdown",
   "metadata": {},
   "source": [
    "# tf.Variable.assign()"
   ]
  },
  {
   "cell_type": "code",
   "execution_count": 48,
   "metadata": {},
   "outputs": [
    {
     "name": "stdout",
     "output_type": "stream",
     "text": [
      "10\n"
     ]
    }
   ],
   "source": [
    "w = tf.Variable(10)\n",
    "w.assign(100)\n",
    "with tf.Session() as sess:\n",
    "    sess.run(w.initializer)\n",
    "    print(w.eval())"
   ]
  },
  {
   "cell_type": "code",
   "execution_count": 49,
   "metadata": {},
   "outputs": [
    {
     "name": "stdout",
     "output_type": "stream",
     "text": [
      "100\n"
     ]
    }
   ],
   "source": [
    "w = tf.Variable(10)\n",
    "assign_op = w.assign(100)\n",
    "with tf.Session() as sess:\n",
    "    sess.run(w.initializer)\n",
    "    sess.run(assign_op)\n",
    "    print(w.eval())"
   ]
  },
  {
   "cell_type": "markdown",
   "metadata": {},
   "source": [
    "# tf.Variable.assign()"
   ]
  },
  {
   "cell_type": "code",
   "execution_count": 60,
   "metadata": {},
   "outputs": [
    {
     "name": "stdout",
     "output_type": "stream",
     "text": [
      "4\n",
      "8\n",
      "16\n"
     ]
    }
   ],
   "source": [
    "my_var = tf.Variable(2, name='my_var')\n",
    "my_var_times_two = my_var.assign(2*my_var)\n",
    "with tf.Session() as sess:\n",
    "    sess.run(my_var.initializer)\n",
    "    print(sess.run(my_var_times_two))\n",
    "    print(sess.run(my_var_times_two))\n",
    "    print(sess.run(my_var_times_two))"
   ]
  },
  {
   "cell_type": "code",
   "execution_count": 61,
   "metadata": {},
   "outputs": [
    {
     "name": "stdout",
     "output_type": "stream",
     "text": [
      "20\n",
      "8\n",
      "120\n",
      "-42\n"
     ]
    }
   ],
   "source": [
    "w = tf.Variable(10)\n",
    "sess1 = tf.Session()\n",
    "sess2 = tf.Session()\n",
    "\n",
    "sess1.run(w.initializer)\n",
    "sess2.run(w.initializer)\n",
    "\n",
    "print(sess1.run(w.assign_add(10)))\n",
    "print(sess2.run(w.assign_sub(2)))\n",
    "\n",
    "print(sess1.run(w.assign_add(100)))\n",
    "print(sess2.run(w.assign_sub(50)))\n",
    "\n",
    "sess1.close()\n",
    "sess2.close()"
   ]
  },
  {
   "cell_type": "markdown",
   "metadata": {},
   "source": [
    "# placeholder\n",
    "### TF program often has 2phases:\n",
    "- assemble a graph\n",
    "- use a session to execute operations in the graph\n",
    "- **assemble the graph first without knowing the values needed for computation**\n",
    "- define the funciton f(x,y) = 2*x + y without knowing value of x or y\n",
    "- x, y are palceholders for the actual values"
   ]
  },
  {
   "cell_type": "code",
   "execution_count": 64,
   "metadata": {},
   "outputs": [
    {
     "name": "stdout",
     "output_type": "stream",
     "text": [
      "[6. 7. 8.]\n"
     ]
    }
   ],
   "source": [
    "#create placeholder\n",
    "a = tf.placeholder(tf.float32, shape=[3])\n",
    "#create constant\n",
    "b = tf.constant([5,5,5], tf.float32)\n",
    "#use placeholder\n",
    "c = a + b\n",
    "with tf.Session() as sess:\n",
    "    print(sess.run(c, {a:[1,2,3]}))"
   ]
  },
  {
   "cell_type": "code",
   "execution_count": 65,
   "metadata": {},
   "outputs": [],
   "source": [
    "# #loop\n",
    "# with tf.Session() as ses:\n",
    "#     for a_value in list_of_values_for_a:\n",
    "#         print(sess.run(c, {a:a_value}))"
   ]
  },
  {
   "cell_type": "code",
   "execution_count": 69,
   "metadata": {},
   "outputs": [
    {
     "name": "stdout",
     "output_type": "stream",
     "text": [
      "7\n",
      "45\n"
     ]
    }
   ],
   "source": [
    "#create operations, tensors, etc\n",
    "a = tf.add(2,5)\n",
    "b = tf.multiply(a, 3)\n",
    "with tf.Session() as sess:\n",
    "    #compute the value\n",
    "    print(sess.run(a))\n",
    "    print(sess.run(b, feed_dict={a:15}))"
   ]
  },
  {
   "cell_type": "markdown",
   "metadata": {},
   "source": [
    "# lazy loading"
   ]
  },
  {
   "cell_type": "code",
   "execution_count": 70,
   "metadata": {},
   "outputs": [
    {
     "name": "stdout",
     "output_type": "stream",
     "text": [
      "30\n",
      "30\n",
      "30\n",
      "30\n",
      "30\n",
      "30\n",
      "30\n",
      "30\n",
      "30\n",
      "30\n",
      "CPU times: user 161 ms, sys: 3.98 ms, total: 165 ms\n",
      "Wall time: 179 ms\n"
     ]
    }
   ],
   "source": [
    "%%time\n",
    "#normal loading\n",
    "x = tf.Variable(10, name='x')\n",
    "y = tf.Variable(20, name='y')\n",
    "z = tf.add(x,y)\n",
    "\n",
    "writer = tf.summary.FileWriter('./graphs/normal_loading', tf.get_default_graph())\n",
    "with tf.Session() as sess:\n",
    "    sess.run(tf.global_variables_initializer())\n",
    "    for _ in range(10):\n",
    "        print(sess.run(z))\n",
    "writer.close()"
   ]
  },
  {
   "cell_type": "code",
   "execution_count": 71,
   "metadata": {},
   "outputs": [
    {
     "name": "stdout",
     "output_type": "stream",
     "text": [
      "30\n",
      "30\n",
      "30\n",
      "30\n",
      "30\n",
      "30\n",
      "30\n",
      "30\n",
      "30\n",
      "30\n",
      "CPU times: user 233 ms, sys: 11.1 ms, total: 244 ms\n",
      "Wall time: 233 ms\n"
     ]
    }
   ],
   "source": [
    "%%time\n",
    "#lazy loading\n",
    "x = tf.Variable(10, name='x')\n",
    "y = tf.Variable(20, name='y')\n",
    "\n",
    "writer = tf.summary.FileWriter('./graphs/normal_loading', tf.get_default_graph())\n",
    "with tf.Session() as sess:\n",
    "    sess.run(tf.global_variables_initializer())\n",
    "    for _ in range(10):\n",
    "        print(sess.run(tf.add(x,y)))\n",
    "writer.close()"
   ]
  },
  {
   "cell_type": "code",
   "execution_count": null,
   "metadata": {},
   "outputs": [],
   "source": []
  }
 ],
 "metadata": {
  "kernelspec": {
   "display_name": "Python 3",
   "language": "python",
   "name": "python3"
  },
  "language_info": {
   "codemirror_mode": {
    "name": "ipython",
    "version": 3
   },
   "file_extension": ".py",
   "mimetype": "text/x-python",
   "name": "python",
   "nbconvert_exporter": "python",
   "pygments_lexer": "ipython3",
   "version": "3.6.5"
  }
 },
 "nbformat": 4,
 "nbformat_minor": 2
}
