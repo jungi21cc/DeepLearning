{
  "nbformat": 4,
  "nbformat_minor": 0,
  "metadata": {
    "colab": {
      "name": "FashionMNIST with Resnet.ipynb",
      "version": "0.3.2",
      "provenance": []
    },
    "kernelspec": {
      "display_name": "Python 3",
      "language": "python",
      "name": "python3"
    },
    "accelerator": "GPU"
  },
  "cells": [
    {
      "metadata": {
        "id": "DcCgebfNuY-D",
        "colab_type": "text"
      },
      "cell_type": "markdown",
      "source": [
        "# Residual Neural Network"
      ]
    },
    {
      "metadata": {
        "id": "_GuMWd2guY-F",
        "colab_type": "code",
        "colab": {}
      },
      "cell_type": "code",
      "source": [
        "import tensorflow as tf\n",
        "import numpy as np\n",
        "import matplotlib.pyplot as plt\n",
        "import time\n",
        "\n",
        "slim = tf.contrib.slim"
      ],
      "execution_count": 0,
      "outputs": []
    },
    {
      "metadata": {
        "id": "hv4C_zUTuY-M",
        "colab_type": "code",
        "colab": {}
      },
      "cell_type": "code",
      "source": [
        "tf.reset_default_graph()"
      ],
      "execution_count": 0,
      "outputs": []
    },
    {
      "metadata": {
        "id": "44WZsvOcuY-Q",
        "colab_type": "text"
      },
      "cell_type": "markdown",
      "source": [
        "# import data set"
      ]
    },
    {
      "metadata": {
        "id": "t05E0chouY-S",
        "colab_type": "code",
        "colab": {}
      },
      "cell_type": "code",
      "source": [
        "# (x_train, y_train), (x_test, y_test) =  tf.keras.datasets.mnist.load_data()\n",
        "(x_train, y_train), (x_test, y_test) = tf.keras.datasets.fashion_mnist.load_data()\n",
        "\n",
        "x_train = x_train/255.0\n",
        "x_train = x_train.astype(dtype=np.float32)\n",
        "y_train = np.asarray(y_train, dtype=np.int32)\n",
        "\n",
        "x_test = x_test/255.0\n",
        "x_test = x_test.astype(np.float32)\n",
        "y_test = np.asarray(y_test, dtype=np.int32)"
      ],
      "execution_count": 0,
      "outputs": []
    },
    {
      "metadata": {
        "id": "dvgamq44uY-W",
        "colab_type": "code",
        "colab": {
          "base_uri": "https://localhost:8080/",
          "height": 35
        },
        "outputId": "733802c5-1092-452f-9998-cafe28eb891e"
      },
      "cell_type": "code",
      "source": [
        "x_train.shape, y_train.shape, x_test.shape, y_test.shape"
      ],
      "execution_count": 4,
      "outputs": [
        {
          "output_type": "execute_result",
          "data": {
            "text/plain": [
              "((60000, 28, 28), (60000,), (10000, 28, 28), (10000,))"
            ]
          },
          "metadata": {
            "tags": []
          },
          "execution_count": 4
        }
      ]
    },
    {
      "metadata": {
        "id": "BlHqceAyuY-a",
        "colab_type": "code",
        "colab": {}
      },
      "cell_type": "code",
      "source": [
        "# #sampling\n",
        "# train_data_size  = 6000\n",
        "# train_idx = np.random.choice(np.arange(x_train.shape[0]), size=train_data_size, replace=False)\n",
        "# # print(train_idx)\n",
        "# x_train = x_train[train_idx]\n",
        "# y_train = y_train[train_idx]\n",
        "\n",
        "# train_data_size  = 2000\n",
        "# test_idx = np.random.choice(np.arange(x_train.shape[0]), size=train_data_size, replace=False)\n",
        "# # print(train_idx)\n",
        "# x_test = x_test[test_idx]\n",
        "# y_test = y_test[test_idx]\n",
        "\n",
        "# x_train.shape, y_train.shape, x_test.shape, y_test.shape"
      ],
      "execution_count": 0,
      "outputs": []
    },
    {
      "metadata": {
        "id": "XJYVSrc0uisZ",
        "colab_type": "code",
        "colab": {}
      },
      "cell_type": "code",
      "source": [
        "labels_desc = {\"Label\":\"Description\",\n",
        "0:\"T-shirt/top\",\n",
        "1:\"Trouser\",\n",
        "2:\"Pullover\",\n",
        "3:\"Dress\",\n",
        "4:\"Coat\",\n",
        "5:\"Sandal\",\n",
        "6:\"Shirt\",\n",
        "7:\"Sneaker\",\n",
        "8:\"Bag\",\n",
        "9:\"Ankle boot\",}"
      ],
      "execution_count": 0,
      "outputs": []
    },
    {
      "metadata": {
        "id": "v9lLQDd5ujVr",
        "colab_type": "code",
        "colab": {
          "base_uri": "https://localhost:8080/",
          "height": 824
        },
        "outputId": "d9e38357-1b8a-429b-cc54-62c6d1140341"
      },
      "cell_type": "code",
      "source": [
        "fig=plt.figure(figsize=(14, 14))\n",
        "columns = 4\n",
        "rows = 5\n",
        "for i in range(1, columns*rows +1):\n",
        "#     img = np.random.randint(10, size=(h,w))\n",
        "    img = x_train[i]\n",
        "    fig.add_subplot(rows, columns, i)\n",
        "    plt.subplots_adjust(wspace=0.2, hspace=0.4)\n",
        "    plt.title(labels_desc[y_train[i]])\n",
        "    plt.imshow(img)\n",
        "plt.show()"
      ],
      "execution_count": 7,
      "outputs": [
        {
          "output_type": "display_data",
          "data": {
            "image/png": "[encoded data removed]",
            "text/plain": [
              "<matplotlib.figure.Figure at 0x7fd1ba3129e8>"
            ]
          },
          "metadata": {
            "tags": []
          }
        }
      ]
    },
    {
      "metadata": {
        "id": "ubpc_H40uY-f",
        "colab_type": "text"
      },
      "cell_type": "markdown",
      "source": [
        "# split data"
      ]
    },
    {
      "metadata": {
        "id": "PGC9wGowuY-g",
        "colab_type": "code",
        "colab": {
          "base_uri": "https://localhost:8080/",
          "height": 53
        },
        "outputId": "1feccd88-389d-4649-97a1-31467d36e931"
      },
      "cell_type": "code",
      "source": [
        "train_data_size  = 50000\n",
        "# train_data_size  = 5000\n",
        "train_idx = np.random.choice(np.arange(x_train.shape[0]), size=train_data_size, replace=False)\n",
        "# print(train_idx)\n",
        "x_tr = x_train[train_idx]\n",
        "y_tr = y_train[train_idx]\n",
        "\n",
        "x_val = np.delete(arr=x_train, obj=train_idx, axis=0)\n",
        "y_val = np.delete(arr=y_train, obj=train_idx, axis=0)\n",
        "\n",
        "print('train data : {}, {}'.format(x_tr.shape, y_tr.shape))\n",
        "print('val data : {}, {}'.format(x_val.shape, y_val.shape))"
      ],
      "execution_count": 8,
      "outputs": [
        {
          "output_type": "stream",
          "text": [
            "train data : (50000, 28, 28), (50000,)\n",
            "val data : (10000, 28, 28), (10000,)\n"
          ],
          "name": "stdout"
        }
      ]
    },
    {
      "metadata": {
        "id": "UHuzeHKLuY-l",
        "colab_type": "text"
      },
      "cell_type": "markdown",
      "source": [
        "# setup dataset with tf.data"
      ]
    },
    {
      "metadata": {
        "id": "P34UYw5UuY-m",
        "colab_type": "code",
        "colab": {
          "base_uri": "https://localhost:8080/",
          "height": 53
        },
        "outputId": "13f1ffec-39ac-46ea-9e95-b1b707c6a188"
      },
      "cell_type": "code",
      "source": [
        "batch_size  = 32\n",
        "\n",
        "# for training\n",
        "tr_dataset = tf.data.Dataset.from_tensor_slices((x_tr, y_tr))\n",
        "# tr_dataset = tr_dataset.shuffle(buffer_size = 10000)\n",
        "tr_dataset = tr_dataset.batch(batch_size = batch_size)\n",
        "tr_iterator = tr_dataset.make_initializable_iterator()\n",
        "\n",
        "print(tr_dataset)\n",
        "\n",
        "# for validation\n",
        "# validation data의 용량이 in memory에 넣을 수 없을정도로 아래와 같이 활용한다.\n",
        "val_dataset = tf.data.Dataset.from_tensor_slices((x_val, y_val))\n",
        "# val_dataset = val_dataset.shuffle(buffer_size = 10000)\n",
        "val_dataset = val_dataset.batch(batch_size = batch_size)\n",
        "val_iterator = val_dataset.make_initializable_iterator()\n",
        "\n",
        "print(val_dataset)"
      ],
      "execution_count": 9,
      "outputs": [
        {
          "output_type": "stream",
          "text": [
            "<BatchDataset shapes: ((?, 28, 28), (?,)), types: (tf.float32, tf.int32)>\n",
            "<BatchDataset shapes: ((?, 28, 28), (?,)), types: (tf.float32, tf.int32)>\n"
          ],
          "name": "stdout"
        }
      ]
    },
    {
      "metadata": {
        "id": "A9e8xBeduY-q",
        "colab_type": "code",
        "colab": {}
      },
      "cell_type": "code",
      "source": [
        "# tf.data.Iterator.from_string_handle의 output_shapes는 default = None이지만 꼭 값을 넣는 게 좋음\n",
        "handle = tf.placeholder(tf.string)\n",
        "iterator = tf.data.Iterator.from_string_handle(handle,\n",
        "                                               tr_dataset.output_types,\n",
        "                                               tr_dataset.output_shapes)\n",
        "x, y = iterator.get_next()"
      ],
      "execution_count": 0,
      "outputs": []
    },
    {
      "metadata": {
        "id": "9ZtC30XSuY-v",
        "colab_type": "text"
      },
      "cell_type": "markdown",
      "source": [
        "# build model"
      ]
    },
    {
      "metadata": {
        "id": "0H9dqdXBuY-w",
        "colab_type": "code",
        "colab": {}
      },
      "cell_type": "code",
      "source": [
        "def residual_block(input_layer, kernels, filters, stride, is_training):\n",
        "    \"\"\"\n",
        "    input -> Conv -> Relu -> Conv -> Addition -> Relu -> Output\n",
        "    \"\"\"\n",
        "    \n",
        "    conv = tf.layers.conv2d(input_layer, filters=filters, kernel_size=kernels, strides=stride, \n",
        "                    activation=None, padding='SAME')\n",
        "    conv = tf.layers.batch_normalization(conv, epsilon=1e-5, training=is_training)\n",
        "    conv = tf.nn.relu(conv)\n",
        "    \n",
        "    conv = tf.layers.conv2d(conv, filters=filters, kernel_size=kernels, strides=stride, padding='SAME')\n",
        "    conv = tf.layers.batch_normalization(conv, epsilon=1e-5, training=is_training)\n",
        "    \n",
        "    input_projection = tf.layers.conv2d(input_layer, filters=filters, kernel_size=1, strides=1)\n",
        "    conv_shortcut_connection = tf.nn.relu(tf.add(conv, input_projection))\n",
        "    \n",
        "    conv = tf.layers.conv2d(conv_shortcut_connection, filters=filters, kernel_size=kernels, strides=stride, \n",
        "                    activation=tf.nn.relu, padding='SAME')\n",
        "    conv = tf.layers.batch_normalization(conv, epsilon=1e-5, training=is_training)\n",
        "    conv = tf.nn.relu(conv)\n",
        "    \n",
        "    conv = tf.layers.conv2d(conv, filters=filters, kernel_size=kernels, strides=stride, padding='SAME')\n",
        "    conv = tf.layers.batch_normalization(conv, epsilon=1e-5, training=is_training)\n",
        "    \n",
        "    conv_shortcut_connection = tf.nn.relu(tf.add(conv, conv_shortcut_connection))\n",
        "    \n",
        "    return tf.layers.max_pooling2d(conv_shortcut_connection, pool_size=2, strides=2, padding='SAME')"
      ],
      "execution_count": 0,
      "outputs": []
    },
    {
      "metadata": {
        "id": "VDoZrk-7uY-z",
        "colab_type": "code",
        "colab": {}
      },
      "cell_type": "code",
      "source": [
        "def cnn_model(x):\n",
        "    \n",
        "    is_training = tf.placeholder(tf.bool)\n",
        "    \n",
        "    with tf.variable_scope('input_layer'):\n",
        "        input_layer = tf.reshape(x, shape=[-1, 28, 28, 1])\n",
        "        # Now [batch x 28 x 28 x 1]\n",
        "        conv = tf.layers.conv2d(input_layer, filters=8, kernel_size=3, strides=1, padding='SAME',\n",
        "                               activation=tf.nn.relu)\n",
        "        # Now [batch x 28 x 28 x 8]\n",
        "        \n",
        "    with tf.variable_scope('residual_1'):\n",
        "        conv = residual_block(conv, kernels=3, filters=16, stride=1, is_training=is_training)\n",
        "        # Now [batch x 14 x 14 x 16]\n",
        "    with tf.variable_scope('residual_2'):\n",
        "        conv = residual_block(conv, kernels=3, filters=32, stride=1, is_training=is_training)\n",
        "        # Now [batch x 7 x 7 x 32]\n",
        "    with tf.variable_scope('residual_3'):\n",
        "        conv = residual_block(conv, kernels=3, filters=64, stride=1, is_training=is_training)\n",
        "        # Now [batch x 4 x 4 x 64]\n",
        "        \n",
        "    with tf.variable_scope('dense'):\n",
        "        flatten = tf.reshape(conv, [-1, 4*4*64]) # tf.layer.flatten(conv)\n",
        "    \n",
        "        fc1 = tf.layers.dense(flatten, 1024, activation=tf.nn.relu, name='fc1')\n",
        "        \n",
        "        dropout = tf.layers.dropout(fc1, rate=0.4, training=is_training, name='dropout')\n",
        "        logits = tf.layers.dense(dropout, 10, name='logits')\n",
        "        \n",
        "        return logits, is_training, input_layer"
      ],
      "execution_count": 0,
      "outputs": []
    },
    {
      "metadata": {
        "id": "NQBT1cZLuY-3",
        "colab_type": "code",
        "colab": {}
      },
      "cell_type": "code",
      "source": [
        "logits, is_training, x_image = cnn_model(x)"
      ],
      "execution_count": 0,
      "outputs": []
    },
    {
      "metadata": {
        "id": "rtgExHExuY-8",
        "colab_type": "text"
      },
      "cell_type": "markdown",
      "source": [
        "# define loss and optimizer"
      ]
    },
    {
      "metadata": {
        "id": "KnMqipU3uY-9",
        "colab_type": "code",
        "colab": {}
      },
      "cell_type": "code",
      "source": [
        "cross_entropy = tf.losses.sparse_softmax_cross_entropy(labels=y, logits=logits)\n",
        "\n",
        "with tf.control_dependencies(tf.get_collection(tf.GraphKeys.UPDATE_OPS)):\n",
        "    train_step = tf.train.AdamOptimizer().minimize(cross_entropy)"
      ],
      "execution_count": 0,
      "outputs": []
    },
    {
      "metadata": {
        "id": "uCf45R1ouY_E",
        "colab_type": "text"
      },
      "cell_type": "markdown",
      "source": [
        "# assign tf.summary.filewriter"
      ]
    },
    {
      "metadata": {
        "id": "KWTNxdcvuY_E",
        "colab_type": "code",
        "colab": {
          "base_uri": "https://localhost:8080/",
          "height": 35
        },
        "outputId": "ba849aab-1738-4ab9-bbf8-e5487831e9c8"
      },
      "cell_type": "code",
      "source": [
        "graph_location = 'graphs/tensorflow_resnet'\n",
        "print('Saving grapg to: %s' % graph_location)\n",
        "# open FileWriter\n",
        "train_writer = tf.summary.FileWriter(graph_location)\n",
        "# add current default graph to the writer\n",
        "train_writer.add_graph(tf.get_default_graph())"
      ],
      "execution_count": 15,
      "outputs": [
        {
          "output_type": "stream",
          "text": [
            "Saving grapg to: graphs/tensorflow_resnet\n"
          ],
          "name": "stdout"
        }
      ]
    },
    {
      "metadata": {
        "id": "mZ5SpPZauY_J",
        "colab_type": "text"
      },
      "cell_type": "markdown",
      "source": [
        "# tf.summary"
      ]
    },
    {
      "metadata": {
        "id": "TeTiUmQhuY_L",
        "colab_type": "code",
        "colab": {}
      },
      "cell_type": "code",
      "source": [
        "with tf.name_scope('summaries'):\n",
        "    tf.summary.scalar('loss/cross_entropy', cross_entropy)\n",
        "    tf.summary.image('images', x_image)\n",
        "    for var in tf.trainable_variables():\n",
        "        tf.summary.histogram(var.op.name, var)\n",
        "    summary_op = tf.summary.merge_all()"
      ],
      "execution_count": 0,
      "outputs": []
    },
    {
      "metadata": {
        "id": "Yc97X6hWuY_Q",
        "colab_type": "text"
      },
      "cell_type": "markdown",
      "source": [
        "# tf.session and train"
      ]
    },
    {
      "metadata": {
        "id": "bUSWso_ouY_R",
        "colab_type": "code",
        "colab": {}
      },
      "cell_type": "code",
      "source": [
        "# sess_config = tf.ConfigProto(gpu_options=tf.GPUOptions(allow_growth=True))\n",
        "sess_config = tf.ConfigProto()\n",
        "sess = tf.Session(config=sess_config)\n",
        "sess.run(tf.global_variables_initializer())\n",
        "\n",
        "# history\n",
        "tr_hist = []\n",
        "val_hist = []\n",
        "\n",
        "# Generate handles of tr_iterator and val_iterator\n",
        "tr_handle, val_handle = sess.run(fetches = [tr_iterator.string_handle(), val_iterator.string_handle()])\n",
        "\n",
        "# Train\n",
        "max_epochs = 10"
      ],
      "execution_count": 0,
      "outputs": []
    },
    {
      "metadata": {
        "id": "s5Txm2e5uY_V",
        "colab_type": "code",
        "colab": {
          "base_uri": "https://localhost:8080/",
          "height": 737
        },
        "outputId": "6c39c633-00a8-4066-821a-2b0faa14858a"
      },
      "cell_type": "code",
      "source": [
        "print('Training start!!')\n",
        "print()\n",
        "\n",
        "for epoch in range(max_epochs):\n",
        "    print(\"Epoch : {}\".format(epoch + 1))\n",
        "    print()\n",
        "    \n",
        "    avg_tr_loss = 0\n",
        "    avg_val_loss = 0\n",
        "    tr_step = 0\n",
        "    val_step = 0\n",
        "    \n",
        "    # training 1-epoch\n",
        "    sess.run(tr_iterator.initializer)\n",
        "    start_time = time.time()\n",
        "    \n",
        "    while True:\n",
        "        try:\n",
        "#             print(tr_step)\n",
        "            _, tr_loss = sess.run(fetches = [train_step, cross_entropy],\n",
        "                               feed_dict = {handle : tr_handle, is_training : True})\n",
        "            \n",
        "            \n",
        "            if tr_step % 500 == 0:\n",
        "                print(\"step: {}, loss: {}\".format(tr_step, tr_loss))\n",
        "                summary_str = sess.run(summary_op, feed_dict={handle: tr_handle, is_training: False})\n",
        "                train_writer.add_summary(summary_str, global_step=tr_step)\n",
        "                \n",
        "            tr_step += 1\n",
        "            avg_tr_loss += tr_loss\n",
        "\n",
        "        except tf.errors.OutOfRangeError:\n",
        "            break\n",
        "#     print(\"Epoch: {} Training Elapsed Time : {:.3f}\".format(epoch+1, ))\n",
        "    \n",
        "    # validation 1-epoch\n",
        "    sess.run(val_iterator.initializer)\n",
        "    while True:\n",
        "        try:\n",
        "            val_loss = sess.run(cross_entropy, \n",
        "                                feed_dict = {handle : val_handle, is_training : False})\n",
        "            val_step += 1\n",
        "            avg_val_loss += val_loss\n",
        "        \n",
        "        except tf.errors.OutOfRangeError:\n",
        "            break\n",
        "            \n",
        "    avg_tr_loss /= tr_step\n",
        "    avg_val_loss /= val_step\n",
        "    tr_hist.append(avg_tr_loss)\n",
        "    val_hist.append(avg_val_loss)\n",
        "    \n",
        "    print('Epochs : {}, Train_loss : {:.3f}, Valid_loss : {:.3f}, Elapsed Time : {:.3f}'.format(epoch + 1, avg_tr_loss, avg_val_loss, time.time()-start_time))\n",
        "    print()\n",
        "    \n",
        "print('Training Done!!')"
      ],
      "execution_count": 20,
      "outputs": [
        {
          "output_type": "stream",
          "text": [
            "Epoch : 1\n",
            "\n",
            "Epochs :   1, Train_loss : 0.131, Valid_loss : 0.282, Elapsed Time : 29.282\n",
            "\n",
            "Epoch : 2\n",
            "\n",
            "Epochs :   2, Train_loss : 0.116, Valid_loss : 0.274, Elapsed Time : 29.414\n",
            "\n",
            "Epoch : 3\n",
            "\n",
            "Epochs :   3, Train_loss : 0.103, Valid_loss : 0.253, Elapsed Time : 29.172\n",
            "\n",
            "Epoch : 4\n",
            "\n",
            "Epochs :   4, Train_loss : 0.092, Valid_loss : 0.274, Elapsed Time : 29.107\n",
            "\n",
            "Epoch : 5\n",
            "\n",
            "Epochs :   5, Train_loss : 0.084, Valid_loss : 0.281, Elapsed Time : 29.063\n",
            "\n",
            "Epoch : 6\n",
            "\n",
            "Epochs :   6, Train_loss : 0.078, Valid_loss : 0.336, Elapsed Time : 29.027\n",
            "\n",
            "Epoch : 7\n",
            "\n",
            "Epochs :   7, Train_loss : 0.075, Valid_loss : 0.307, Elapsed Time : 29.032\n",
            "\n",
            "Epoch : 8\n",
            "\n",
            "Epochs :   8, Train_loss : 0.070, Valid_loss : 0.347, Elapsed Time : 28.995\n",
            "\n",
            "Epoch : 9\n",
            "\n",
            "Epochs :   9, Train_loss : 0.065, Valid_loss : 0.337, Elapsed Time : 29.050\n",
            "\n",
            "Epoch : 10\n",
            "\n",
            "Epochs :  10, Train_loss : 0.062, Valid_loss : 0.368, Elapsed Time : 29.034\n",
            "\n"
          ],
          "name": "stdout"
        }
      ]
    },
    {
      "metadata": {
        "id": "_GNKRQkxuY_c",
        "colab_type": "text"
      },
      "cell_type": "markdown",
      "source": [
        "# test trained model"
      ]
    },
    {
      "metadata": {
        "id": "4Y2_r1gmuY_d",
        "colab_type": "code",
        "colab": {}
      },
      "cell_type": "code",
      "source": [
        "yhat = sess.run(logits, feed_dict = {x : x_test, is_training : False})\n",
        "yhat = np.argmax(yhat, axis = 1)"
      ],
      "execution_count": 0,
      "outputs": []
    },
    {
      "metadata": {
        "id": "fTHrHv5GuY_h",
        "colab_type": "code",
        "colab": {
          "base_uri": "https://localhost:8080/",
          "height": 35
        },
        "outputId": "b844c150-4588-43fc-d144-230a1ed20e6d"
      },
      "cell_type": "code",
      "source": [
        "print('test accuracy : {:.2%}'.format(np.mean(yhat == y_test)))"
      ],
      "execution_count": 22,
      "outputs": [
        {
          "output_type": "stream",
          "text": [
            "test accuracy : 92.11%\n"
          ],
          "name": "stdout"
        }
      ]
    },
    {
      "metadata": {
        "id": "jvimznV6uY_m",
        "colab_type": "text"
      },
      "cell_type": "markdown",
      "source": [
        "# visualize history"
      ]
    },
    {
      "metadata": {
        "id": "JzzOEdI5uY_n",
        "colab_type": "code",
        "colab": {
          "base_uri": "https://localhost:8080/",
          "height": 365
        },
        "outputId": "c65fb48e-2701-40fd-c20c-a7ef111a0bf2"
      },
      "cell_type": "code",
      "source": [
        "plt.plot(tr_hist, label = 'train')\n",
        "plt.plot(val_hist, label = 'validation')\n",
        "plt.legend()"
      ],
      "execution_count": 23,
      "outputs": [
        {
          "output_type": "execute_result",
          "data": {
            "text/plain": [
              "<matplotlib.legend.Legend at 0x7fd1b35ee6a0>"
            ]
          },
          "metadata": {
            "tags": []
          },
          "execution_count": 23
        },
        {
          "output_type": "display_data",
          "data": {
            "image/png": "[encoded data removed]",
            "text/plain": [
              "<matplotlib.figure.Figure at 0x7fd1b3646668>"
            ]
          },
          "metadata": {
            "tags": []
          }
        }
      ]
    },
    {
      "metadata": {
        "id": "kV70MT5BuY_q",
        "colab_type": "code",
        "colab": {}
      },
      "cell_type": "code",
      "source": [
        ""
      ],
      "execution_count": 0,
      "outputs": []
    }
  ]
}