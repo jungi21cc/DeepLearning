{
  "nbformat": 4,
  "nbformat_minor": 0,
  "metadata": {
    "colab": {
      "name": "AutoEncoder.ipynb",
      "version": "0.3.2",
      "provenance": []
    },
    "kernelspec": {
      "name": "python3",
      "display_name": "Python 3"
    },
    "accelerator": "GPU"
  },
  "cells": [
    {
      "metadata": {
        "id": "sJBvo8p9Vldf",
        "colab_type": "code",
        "colab": {
          "base_uri": "https://localhost:8080/",
          "height": 559
        },
        "outputId": "ce207c6f-1408-40aa-f61c-74428ea05184"
      },
      "cell_type": "code",
      "source": [
        "###Auto Encoder 솔라리스 블로그 - http://solarisailab.com/archives/1182\n",
        "\n",
        "# -*- coding: utf-8 -*-\n",
        "\n",
        "# MNIST 숫자 분류를 위한 Stacked AutoEncoder 예제 \n",
        "\n",
        "# 절대 임포트 설정\n",
        "from __future__ import division, print_function, absolute_import\n",
        "\n",
        "# 필요한 라이브러리들을 임포트\n",
        "import tensorflow as tf\n",
        "import numpy as np\n",
        "import matplotlib.pyplot as plt\n",
        "\n",
        "# MNIST 데이터를 다운로드 한다.\n",
        "from tensorflow.examples.tutorials.mnist import input_data\n",
        "mnist = input_data.read_data_sets(\"MNIST_data/\", one_hot=True)"
      ],
      "execution_count": 1,
      "outputs": [
        {
          "output_type": "stream",
          "text": [
            "WARNING:tensorflow:From <ipython-input-1-388225c35bd4>:10: read_data_sets (from tensorflow.contrib.learn.python.learn.datasets.mnist) is deprecated and will be removed in a future version.\n",
            "Instructions for updating:\n",
            "Please use alternatives such as official/mnist/dataset.py from tensorflow/models.\n",
            "WARNING:tensorflow:From /usr/local/lib/python3.6/dist-packages/tensorflow/contrib/learn/python/learn/datasets/mnist.py:260: maybe_download (from tensorflow.contrib.learn.python.learn.datasets.base) is deprecated and will be removed in a future version.\n",
            "Instructions for updating:\n",
            "Please write your own downloading logic.\n",
            "WARNING:tensorflow:From /usr/local/lib/python3.6/dist-packages/tensorflow/contrib/learn/python/learn/datasets/base.py:252: _internal_retry.<locals>.wrap.<locals>.wrapped_fn (from tensorflow.contrib.learn.python.learn.datasets.base) is deprecated and will be removed in a future version.\n",
            "Instructions for updating:\n",
            "Please use urllib or similar directly.\n",
            "Successfully downloaded train-images-idx3-ubyte.gz 9912422 bytes.\n",
            "WARNING:tensorflow:From /usr/local/lib/python3.6/dist-packages/tensorflow/contrib/learn/python/learn/datasets/mnist.py:262: extract_images (from tensorflow.contrib.learn.python.learn.datasets.mnist) is deprecated and will be removed in a future version.\n",
            "Instructions for updating:\n",
            "Please use tf.data to implement this functionality.\n",
            "Extracting MNIST_data/train-images-idx3-ubyte.gz\n",
            "Successfully downloaded train-labels-idx1-ubyte.gz 28881 bytes.\n",
            "WARNING:tensorflow:From /usr/local/lib/python3.6/dist-packages/tensorflow/contrib/learn/python/learn/datasets/mnist.py:267: extract_labels (from tensorflow.contrib.learn.python.learn.datasets.mnist) is deprecated and will be removed in a future version.\n",
            "Instructions for updating:\n",
            "Please use tf.data to implement this functionality.\n",
            "Extracting MNIST_data/train-labels-idx1-ubyte.gz\n",
            "WARNING:tensorflow:From /usr/local/lib/python3.6/dist-packages/tensorflow/contrib/learn/python/learn/datasets/mnist.py:110: dense_to_one_hot (from tensorflow.contrib.learn.python.learn.datasets.mnist) is deprecated and will be removed in a future version.\n",
            "Instructions for updating:\n",
            "Please use tf.one_hot on tensors.\n",
            "Successfully downloaded t10k-images-idx3-ubyte.gz 1648877 bytes.\n",
            "Extracting MNIST_data/t10k-images-idx3-ubyte.gz\n",
            "Successfully downloaded t10k-labels-idx1-ubyte.gz 4542 bytes.\n",
            "Extracting MNIST_data/t10k-labels-idx1-ubyte.gz\n",
            "WARNING:tensorflow:From /usr/local/lib/python3.6/dist-packages/tensorflow/contrib/learn/python/learn/datasets/mnist.py:290: DataSet.__init__ (from tensorflow.contrib.learn.python.learn.datasets.mnist) is deprecated and will be removed in a future version.\n",
            "Instructions for updating:\n",
            "Please use alternatives such as official/mnist/dataset.py from tensorflow/models.\n"
          ],
          "name": "stdout"
        }
      ]
    },
    {
      "metadata": {
        "id": "3t5ak33SVm--",
        "colab_type": "code",
        "colab": {}
      },
      "cell_type": "code",
      "source": [
        "# 파라미터 설정\n",
        "learning_rate_RMSProp = 0.01\n",
        "learning_rate_Gradient_Descent = 0.5\n",
        "training_epochs = 400     # epoch 횟수 (iteration)\n",
        "softmax_classifier_iterations = 1000 # Softmax Classifier iteration 횟수 \n",
        "batch_size = 256          \n",
        "display_step = 1        # 몇 Step마다 log를 출력할지 결정한다.\n",
        "examples_to_show = 10   # reconstruct된 이미지 중 몇개를 보여줄지를 결정한다. \n",
        "n_hidden_1 = 200        # 첫번째 히든레이어의 노드 개수 \n",
        "n_hidden_2 = 200        # 두번째 히든레이어의 노드 개수 \n",
        "n_input = 784           # MNIST 데이터 input (이미지 크기: 28*28)"
      ],
      "execution_count": 0,
      "outputs": []
    },
    {
      "metadata": {
        "id": "L-2ukwLlVnUz",
        "colab_type": "code",
        "colab": {}
      },
      "cell_type": "code",
      "source": [
        "# Stacked Autoencoder를 생성한다.\n",
        "def build_autoencoder():\n",
        "    # 히든 레이어 1을 위한 Weights와 Biases\n",
        "    Wh_1 = tf.Variable(tf.random_normal([n_input, n_hidden_1]))   \n",
        "    bh_1 = tf.Variable(tf.random_normal([n_hidden_1]))\n",
        "    h_1 = tf.nn.sigmoid(tf.matmul(X, Wh_1) +bh_1)     # 히든레이어 1의 activation (sigmoid 함수를 사용)\n",
        "    # 히든 레이어 2을 위한 Weights와 Biases\n",
        "    Wh_2 = tf.Variable(tf.random_normal([n_hidden_1, n_hidden_2]))\n",
        "    bh_2 = tf.Variable(tf.random_normal([n_hidden_2]))\n",
        "    h_2 = tf.nn.sigmoid(tf.matmul(h_1, Wh_2) +bh_2)   # 히든레이어 2의 activation (sigmoid 함수를 사용)\n",
        "    # Output 레이어를 위한 Weights와 Biases\n",
        "    Wo = tf.Variable(tf.random_normal([n_hidden_2, n_input]))\n",
        "    bo = tf.Variable(tf.random_normal([n_input]))\n",
        "    X_reconstructed = tf.nn.sigmoid(tf.matmul(h_2,Wo) + bo)   # Output 레이어의 activation (sigmoid 함수를 사용)\n",
        "    return X_reconstructed, h_2 "
      ],
      "execution_count": 0,
      "outputs": []
    },
    {
      "metadata": {
        "id": "-D2--_iiVnr_",
        "colab_type": "code",
        "colab": {}
      },
      "cell_type": "code",
      "source": [
        "# Softmax Classifier를 생성한다.\n",
        "def build_softmax_classifier():\n",
        "    # Softmax Classifier를 위한 파라미터들\n",
        "    W = tf.Variable(tf.zeros([n_hidden_2, 10]))\n",
        "    b = tf.Variable(tf.zeros([10]))\n",
        "    y_pred = tf.nn.softmax(tf.matmul(extracted_features, W) + b)      # 예측된 Output : 두번째 히든레이어의 activation output을 input으로 사용한다. \n",
        "    return y_pred"
      ],
      "execution_count": 0,
      "outputs": []
    },
    {
      "metadata": {
        "id": "TWLJIwHaVoep",
        "colab_type": "code",
        "colab": {}
      },
      "cell_type": "code",
      "source": [
        "# 학습에 필요한 변수들 설정\n",
        "X = tf.placeholder(\"float\", [None, n_input])    # Input 데이터 설정\n",
        "y_pred, extracted_features = build_autoencoder() # Autoencoder의 Reconstruction 결과, 압축된 Features(h_2=200)\n",
        "y_true = X # Output 값(True Output)을 설정(=Input 값)\n",
        "y = build_softmax_classifier()                # Predicted Output using Softmax Classifier\n",
        "y_ = tf.placeholder(tf.float32, [None, 10])   # True Output"
      ],
      "execution_count": 0,
      "outputs": []
    },
    {
      "metadata": {
        "id": "mSvJv7fjVo6P",
        "colab_type": "code",
        "colab": {}
      },
      "cell_type": "code",
      "source": [
        "# Optimization을 위한 파라미터들\n",
        "# Autoencoder Optimization을 위한 파라미터들 \n",
        "reconsturction_cost = tf.reduce_mean(tf.pow(y_true - y_pred, 2))     # squared error loss 함수\n",
        "initial_optimizer = tf.train.RMSPropOptimizer(learning_rate_RMSProp).minimize(reconsturction_cost)"
      ],
      "execution_count": 0,
      "outputs": []
    },
    {
      "metadata": {
        "id": "fvDbGenHVpVH",
        "colab_type": "code",
        "colab": {}
      },
      "cell_type": "code",
      "source": [
        "# Softmax Classifier Optimization을 위한 파라미터들 \n",
        "cross_entropy_cost = tf.reduce_mean(-tf.reduce_sum(y_ * tf.log(y), reduction_indices=[1]))     # cross-entropy loss 함수\n",
        "softmax_classifier_optimizer = tf.train.GradientDescentOptimizer(learning_rate_Gradient_Descent).minimize(cross_entropy_cost)"
      ],
      "execution_count": 0,
      "outputs": []
    },
    {
      "metadata": {
        "id": "4sfLTaz7Vpu6",
        "colab_type": "code",
        "colab": {}
      },
      "cell_type": "code",
      "source": [
        "# Fine Tuning Optimization을 위한 파라미터들\n",
        "finetuning_cost = cross_entropy_cost + reconsturction_cost\n",
        "finetuning_optimizer = tf.train.GradientDescentOptimizer(learning_rate_Gradient_Descent).minimize(finetuning_cost)"
      ],
      "execution_count": 0,
      "outputs": []
    },
    {
      "metadata": {
        "id": "qsgCiYd-Vdl0",
        "colab_type": "code",
        "colab": {
          "base_uri": "https://localhost:8080/",
          "height": 520
        },
        "outputId": "9a49ef2e-a7ee-45d6-c08b-8544a1b54b3a"
      },
      "cell_type": "code",
      "source": [
        "print('Training Start!!')\n",
        "import time\n",
        "\n",
        "start = time.time()\n",
        "total = time.time()\n",
        "with tf.Session() as sess:\n",
        "    # 변수들을 초기화한다.\n",
        "    sess.run(tf.global_variables_initializer())\n",
        "    \n",
        "    # Step 1: Stacked Autoencoder pre-training \n",
        "    total_batch = int(mnist.train.num_examples/batch_size)\n",
        "    # Training을 시작한다.\n",
        "    for epoch in range(training_epochs):\n",
        "        # 모든 배치들을 돌아가면서(Loop) 학습한다.\n",
        "        for i in range(total_batch):\n",
        "            batch_xs, batch_ys = mnist.train.next_batch(batch_size)\n",
        "            # batch 데이터를 이용해서 트레이닝을 진행한다.\n",
        "            _, cost_value = sess.run([initial_optimizer, reconsturction_cost], feed_dict={X: batch_xs})\n",
        "        # 일정 epoch step마다 로그를 출력한다.\n",
        "        if epoch % 100 == 0:\n",
        "            print(\"Epoch step: {}, Loss : {:.9f}, Duration : {:.3f}\".format(epoch, cost_value, time.time() - start))\n",
        "            start = time.time()\n",
        "    print(\"Stacked Autoencoder pre-training Optimization Finished!\")\n",
        "\n",
        "\n",
        "    # Step 2: test 데이터셋을 autoencoder로 reconstruction 해본다.\n",
        "    reconstructed_image = sess.run(y_pred, feed_dict={X: mnist.test.images[:examples_to_show]})\n",
        "    # 원본 이미지와 재구축(reconstructed)된 이미지를 비교한다.\n",
        "    f, a = plt.subplots(2, 10, figsize=(10, 2))\n",
        "    for i in range(examples_to_show):\n",
        "        a[0][i].imshow(np.reshape(mnist.test.images[i], (28, 28)))\n",
        "        a[1][i].imshow(np.reshape(reconstructed_image[i], (28, 28)))\n",
        "    f.show()\n",
        "    plt.draw()\n",
        "    #plt.waitforbuttonpress()     # 버튼을 누를때까지 작업 정지 \n",
        "    f.savefig('reconstructed_mnist_image.png')  # reconstruction 결과를 png로 저장한다.\n",
        "\n",
        "\n",
        "    # Step 3: Softmax Classifier를 학습한다.\n",
        "    for i in range(softmax_classifier_iterations):\n",
        "      batch_xs, batch_ys = mnist.train.next_batch(100)     \n",
        "      sess.run(softmax_classifier_optimizer, feed_dict={X: batch_xs, y_: batch_ys})  \n",
        "    print(\"Softmax Classifier Optimization Finished!\")\n",
        "\n",
        "\n",
        "    # Step 4: 학습된 모델이 얼마나 정확한지를 출력한다. (Before fine-tuning) \n",
        "    correct_prediction = tf.equal(tf.argmax(y,1), tf.argmax(y_,1))\n",
        "    accuracy = tf.reduce_mean(tf.cast(correct_prediction, tf.float32))\n",
        "    print(\"Accuracy(before fine-tuning): \")   # Accuracy ~ 0.9282\n",
        "    print(sess.run(accuracy, feed_dict={X: mnist.test.images, y_: mnist.test.labels}))\n",
        "\n",
        "    start = time.time()\n",
        "    # Step 5: Fine-tuning softmax model\n",
        "    # Training을 시작한다.\n",
        "    for epoch in range(training_epochs):\n",
        "       # 모든 배치들을 돌아가면서(Loop) 학습한다.\n",
        "        for i in range(total_batch):\n",
        "            batch_xs, batch_ys = mnist.train.next_batch(batch_size)\n",
        "            # batch 데이터를 이용해서 트레이닝을 진행한다.\n",
        "            _, cost_value = sess.run([finetuning_optimizer, finetuning_cost], feed_dict={X: batch_xs,  y_: batch_ys})\n",
        "        # 일정 epoch step마다 로그를 출력한다.\n",
        "        if epoch % 100 == 0:\n",
        "            print(\"Epoch step : {}, Loss : {:.9f}, Duration : {:.3f}\".format(epoch, cost_value, time.time() - start))\n",
        "            start = time.time()\n",
        "    print(\"Fine-tuning softmax model Optimization Finished!\")\n",
        "\n",
        "\n",
        "    # Step 6: 학습된 모델이 얼마나 정확한지를 출력한다. (After fine-tuning) \n",
        "    print(\"Accuracy(after fine-tuning): \")      # Accuracy ~ 0.9714\n",
        "    print(sess.run(accuracy, feed_dict={X: mnist.test.images, y_: mnist.test.labels}))\n",
        "    print('Elapsed TIme : {:.3f}'.format(time.time() - total))"
      ],
      "execution_count": 12,
      "outputs": [
        {
          "output_type": "stream",
          "text": [
            "Training Start!!\n",
            "Epoch step: 1, Loss : 0.188713074, Duration : 0.712\n",
            "Epoch step: 101, Loss : 0.067439340, Duration : 61.217\n",
            "Epoch step: 201, Loss : 0.049822759, Duration : 62.824\n",
            "Epoch step: 301, Loss : 0.040737875, Duration : 61.003\n",
            "Stacked Autoencoder pre-training Optimization Finished!\n"
          ],
          "name": "stdout"
        },
        {
          "output_type": "stream",
          "text": [
            "/usr/local/lib/python3.6/dist-packages/matplotlib/figure.py:418: UserWarning: matplotlib is currently using a non-GUI backend, so cannot show the figure\n",
            "  \"matplotlib is currently using a non-GUI backend, \"\n"
          ],
          "name": "stderr"
        },
        {
          "output_type": "stream",
          "text": [
            "Softmax Classifier Optimization Finished!\n",
            "Accuracy(before fine-tuning): \n",
            "0.9219\n",
            "Epoch step : 0, Loss : 0.273176640, Duration : 0.784\n",
            "Epoch step : 100, Loss : 0.074958622, Duration : 73.461\n",
            "Epoch step : 200, Loss : 0.048072018, Duration : 75.865\n",
            "Epoch step : 300, Loss : 0.044299114, Duration : 73.370\n",
            "Fine-tuning softmax model Optimization Finished!\n",
            "Accuracy(after fine-tuning): \n",
            "0.9677\n",
            "Elapsed TIme : 546.844\n"
          ],
          "name": "stdout"
        },
        {
          "output_type": "display_data",
          "data": {
            "image/png": "[encoded data removed]",
            "text/plain": [
              "<matplotlib.figure.Figure at 0x7f7ee2f87320>"
            ]
          },
          "metadata": {
            "tags": []
          }
        }
      ]
    },
    {
      "metadata": {
        "id": "X318qL_aWHZn",
        "colab_type": "code",
        "colab": {}
      },
      "cell_type": "code",
      "source": [
        ""
      ],
      "execution_count": 0,
      "outputs": []
    }
  ]
}